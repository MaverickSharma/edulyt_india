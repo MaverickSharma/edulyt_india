{
 "cells": [
  {
   "cell_type": "code",
   "execution_count": 134,
   "id": "ac200eaf",
   "metadata": {},
   "outputs": [],
   "source": [
    "import pandas as pd\n",
    "import numpy as np\n",
    "from IPython.display import display\n",
    "\n",
    "def display_full_dataframe(df):\n",
    "    with pd.option_context('display.max_rows', None, 'display.max_columns', None):\n",
    "        display(df)"
   ]
  },
  {
   "cell_type": "markdown",
   "id": "79ca7a96",
   "metadata": {},
   "source": [
    "## Reading And Exploring Data"
   ]
  },
  {
   "cell_type": "code",
   "execution_count": 135,
   "id": "b0e91048",
   "metadata": {},
   "outputs": [],
   "source": [
    "credit_card = pd.read_excel(\"Credit Banking_Project1.xls\")"
   ]
  },
  {
   "cell_type": "code",
   "execution_count": 136,
   "id": "c38e3319",
   "metadata": {},
   "outputs": [
    {
     "data": {
      "text/plain": [
       "Index(['Sl No:', 'Customer', 'Age', 'City', 'Credit Card Product', 'Limit',\n",
       "       'Company', 'Segment'],\n",
       "      dtype='object')"
      ]
     },
     "execution_count": 136,
     "metadata": {},
     "output_type": "execute_result"
    }
   ],
   "source": [
    "credit_card.columns"
   ]
  },
  {
   "cell_type": "code",
   "execution_count": 137,
   "id": "54d62e07",
   "metadata": {},
   "outputs": [],
   "source": [
    "credit_card['SI No:'] = credit_card['Sl No:'].copy()"
   ]
  },
  {
   "cell_type": "code",
   "execution_count": 138,
   "id": "bf27afe9",
   "metadata": {},
   "outputs": [
    {
     "data": {
      "text/plain": [
       "(100, 9)"
      ]
     },
     "execution_count": 138,
     "metadata": {},
     "output_type": "execute_result"
    }
   ],
   "source": [
    "credit_card.shape"
   ]
  },
  {
   "cell_type": "code",
   "execution_count": 139,
   "id": "b2601e76",
   "metadata": {},
   "outputs": [
    {
     "data": {
      "text/html": [
       "<div>\n",
       "<style scoped>\n",
       "    .dataframe tbody tr th:only-of-type {\n",
       "        vertical-align: middle;\n",
       "    }\n",
       "\n",
       "    .dataframe tbody tr th {\n",
       "        vertical-align: top;\n",
       "    }\n",
       "\n",
       "    .dataframe thead th {\n",
       "        text-align: right;\n",
       "    }\n",
       "</style>\n",
       "<table border=\"1\" class=\"dataframe\">\n",
       "  <thead>\n",
       "    <tr style=\"text-align: right;\">\n",
       "      <th></th>\n",
       "      <th>Sl No:</th>\n",
       "      <th>Customer</th>\n",
       "      <th>Age</th>\n",
       "      <th>City</th>\n",
       "      <th>Credit Card Product</th>\n",
       "      <th>Limit</th>\n",
       "      <th>Company</th>\n",
       "      <th>Segment</th>\n",
       "      <th>SI No:</th>\n",
       "    </tr>\n",
       "  </thead>\n",
       "  <tbody>\n",
       "    <tr>\n",
       "      <th>0</th>\n",
       "      <td>1</td>\n",
       "      <td>A1</td>\n",
       "      <td>0.928521</td>\n",
       "      <td>BANGALORE</td>\n",
       "      <td>Gold</td>\n",
       "      <td>500000</td>\n",
       "      <td>C1</td>\n",
       "      <td>Self Employed</td>\n",
       "      <td>1</td>\n",
       "    </tr>\n",
       "    <tr>\n",
       "      <th>1</th>\n",
       "      <td>2</td>\n",
       "      <td>A2</td>\n",
       "      <td>35.534551</td>\n",
       "      <td>CALCUTTA</td>\n",
       "      <td>Silver</td>\n",
       "      <td>100000</td>\n",
       "      <td>C2</td>\n",
       "      <td>Salaried_MNC</td>\n",
       "      <td>2</td>\n",
       "    </tr>\n",
       "    <tr>\n",
       "      <th>2</th>\n",
       "      <td>3</td>\n",
       "      <td>A3</td>\n",
       "      <td>11.559307</td>\n",
       "      <td>COCHIN</td>\n",
       "      <td>Platimum</td>\n",
       "      <td>10000</td>\n",
       "      <td>C3</td>\n",
       "      <td>Salaried_Pvt</td>\n",
       "      <td>3</td>\n",
       "    </tr>\n",
       "    <tr>\n",
       "      <th>3</th>\n",
       "      <td>4</td>\n",
       "      <td>A4</td>\n",
       "      <td>45.820278</td>\n",
       "      <td>BOMBAY</td>\n",
       "      <td>Platimum</td>\n",
       "      <td>10001</td>\n",
       "      <td>C4</td>\n",
       "      <td>Govt</td>\n",
       "      <td>4</td>\n",
       "    </tr>\n",
       "    <tr>\n",
       "      <th>4</th>\n",
       "      <td>5</td>\n",
       "      <td>A5</td>\n",
       "      <td>69.663948</td>\n",
       "      <td>BANGALORE</td>\n",
       "      <td>Platimum</td>\n",
       "      <td>10002</td>\n",
       "      <td>C5</td>\n",
       "      <td>Normal Salary</td>\n",
       "      <td>5</td>\n",
       "    </tr>\n",
       "  </tbody>\n",
       "</table>\n",
       "</div>"
      ],
      "text/plain": [
       "   Sl No: Customer        Age       City Credit Card Product   Limit Company  \\\n",
       "0       1       A1   0.928521  BANGALORE                Gold  500000      C1   \n",
       "1       2       A2  35.534551   CALCUTTA              Silver  100000      C2   \n",
       "2       3       A3  11.559307     COCHIN            Platimum   10000      C3   \n",
       "3       4       A4  45.820278     BOMBAY            Platimum   10001      C4   \n",
       "4       5       A5  69.663948  BANGALORE            Platimum   10002      C5   \n",
       "\n",
       "         Segment  SI No:  \n",
       "0  Self Employed       1  \n",
       "1   Salaried_MNC       2  \n",
       "2   Salaried_Pvt       3  \n",
       "3           Govt       4  \n",
       "4  Normal Salary       5  "
      ]
     },
     "execution_count": 139,
     "metadata": {},
     "output_type": "execute_result"
    }
   ],
   "source": [
    "credit_card.head()"
   ]
  },
  {
   "cell_type": "code",
   "execution_count": 140,
   "id": "9d5ec552",
   "metadata": {},
   "outputs": [
    {
     "data": {
      "text/plain": [
       "Sl No:                 0\n",
       "Customer               0\n",
       "Age                    0\n",
       "City                   0\n",
       "Credit Card Product    0\n",
       "Limit                  0\n",
       "Company                0\n",
       "Segment                0\n",
       "SI No:                 0\n",
       "dtype: int64"
      ]
     },
     "execution_count": 140,
     "metadata": {},
     "output_type": "execute_result"
    }
   ],
   "source": [
    "credit_card.isnull().sum()"
   ]
  },
  {
   "cell_type": "code",
   "execution_count": 141,
   "id": "6fe72351",
   "metadata": {},
   "outputs": [
    {
     "data": {
      "text/html": [
       "<div>\n",
       "<style scoped>\n",
       "    .dataframe tbody tr th:only-of-type {\n",
       "        vertical-align: middle;\n",
       "    }\n",
       "\n",
       "    .dataframe tbody tr th {\n",
       "        vertical-align: top;\n",
       "    }\n",
       "\n",
       "    .dataframe thead th {\n",
       "        text-align: right;\n",
       "    }\n",
       "</style>\n",
       "<table border=\"1\" class=\"dataframe\">\n",
       "  <thead>\n",
       "    <tr style=\"text-align: right;\">\n",
       "      <th></th>\n",
       "      <th>Sl No:</th>\n",
       "      <th>Customer</th>\n",
       "      <th>Age</th>\n",
       "      <th>City</th>\n",
       "      <th>Credit Card Product</th>\n",
       "      <th>Limit</th>\n",
       "      <th>Company</th>\n",
       "      <th>Segment</th>\n",
       "      <th>SI No:</th>\n",
       "    </tr>\n",
       "  </thead>\n",
       "  <tbody>\n",
       "    <tr>\n",
       "      <th>95</th>\n",
       "      <td>96</td>\n",
       "      <td>A96</td>\n",
       "      <td>29.631637</td>\n",
       "      <td>CHENNAI</td>\n",
       "      <td>Silver</td>\n",
       "      <td>100000</td>\n",
       "      <td>C19</td>\n",
       "      <td>Salaried_Pvt</td>\n",
       "      <td>96</td>\n",
       "    </tr>\n",
       "    <tr>\n",
       "      <th>96</th>\n",
       "      <td>97</td>\n",
       "      <td>A97</td>\n",
       "      <td>20.611833</td>\n",
       "      <td>TRIVANDRUM</td>\n",
       "      <td>Platimum</td>\n",
       "      <td>10000</td>\n",
       "      <td>C20</td>\n",
       "      <td>Govt</td>\n",
       "      <td>97</td>\n",
       "    </tr>\n",
       "    <tr>\n",
       "      <th>97</th>\n",
       "      <td>98</td>\n",
       "      <td>A98</td>\n",
       "      <td>40.538985</td>\n",
       "      <td>CALCUTTA</td>\n",
       "      <td>Platimum</td>\n",
       "      <td>10001</td>\n",
       "      <td>C21</td>\n",
       "      <td>Normal Salary</td>\n",
       "      <td>98</td>\n",
       "    </tr>\n",
       "    <tr>\n",
       "      <th>98</th>\n",
       "      <td>99</td>\n",
       "      <td>A99</td>\n",
       "      <td>21.588666</td>\n",
       "      <td>CALCUTTA</td>\n",
       "      <td>Platimum</td>\n",
       "      <td>10002</td>\n",
       "      <td>C22</td>\n",
       "      <td>Self Employed</td>\n",
       "      <td>99</td>\n",
       "    </tr>\n",
       "    <tr>\n",
       "      <th>99</th>\n",
       "      <td>100</td>\n",
       "      <td>A100</td>\n",
       "      <td>23.607638</td>\n",
       "      <td>COCHIN</td>\n",
       "      <td>Silver</td>\n",
       "      <td>100000</td>\n",
       "      <td>C5</td>\n",
       "      <td>Salaried_MNC</td>\n",
       "      <td>100</td>\n",
       "    </tr>\n",
       "  </tbody>\n",
       "</table>\n",
       "</div>"
      ],
      "text/plain": [
       "    Sl No: Customer        Age        City Credit Card Product   Limit  \\\n",
       "95      96      A96  29.631637     CHENNAI              Silver  100000   \n",
       "96      97      A97  20.611833  TRIVANDRUM            Platimum   10000   \n",
       "97      98      A98  40.538985    CALCUTTA            Platimum   10001   \n",
       "98      99      A99  21.588666    CALCUTTA            Platimum   10002   \n",
       "99     100     A100  23.607638      COCHIN              Silver  100000   \n",
       "\n",
       "   Company        Segment  SI No:  \n",
       "95     C19   Salaried_Pvt      96  \n",
       "96     C20           Govt      97  \n",
       "97     C21  Normal Salary      98  \n",
       "98     C22  Self Employed      99  \n",
       "99      C5   Salaried_MNC     100  "
      ]
     },
     "execution_count": 141,
     "metadata": {},
     "output_type": "execute_result"
    }
   ],
   "source": [
    "credit_card.tail()"
   ]
  },
  {
   "cell_type": "code",
   "execution_count": 142,
   "id": "973eee39",
   "metadata": {},
   "outputs": [
    {
     "name": "stdout",
     "output_type": "stream",
     "text": [
      "<class 'pandas.core.frame.DataFrame'>\n",
      "RangeIndex: 100 entries, 0 to 99\n",
      "Data columns (total 9 columns):\n",
      " #   Column               Non-Null Count  Dtype  \n",
      "---  ------               --------------  -----  \n",
      " 0   Sl No:               100 non-null    int64  \n",
      " 1   Customer             100 non-null    object \n",
      " 2   Age                  100 non-null    float64\n",
      " 3   City                 100 non-null    object \n",
      " 4   Credit Card Product  100 non-null    object \n",
      " 5   Limit                100 non-null    int64  \n",
      " 6   Company              100 non-null    object \n",
      " 7   Segment              100 non-null    object \n",
      " 8   SI No:               100 non-null    int64  \n",
      "dtypes: float64(1), int64(3), object(5)\n",
      "memory usage: 7.2+ KB\n"
     ]
    }
   ],
   "source": [
    "credit_card.info()"
   ]
  },
  {
   "cell_type": "code",
   "execution_count": 143,
   "id": "c5bf9caf",
   "metadata": {},
   "outputs": [
    {
     "data": {
      "text/plain": [
       "<bound method NDFrame.describe of     Sl No: Customer        Age        City Credit Card Product   Limit  \\\n",
       "0        1       A1   0.928521   BANGALORE                Gold  500000   \n",
       "1        2       A2  35.534551    CALCUTTA              Silver  100000   \n",
       "2        3       A3  11.559307      COCHIN            Platimum   10000   \n",
       "3        4       A4  45.820278      BOMBAY            Platimum   10001   \n",
       "4        5       A5  69.663948   BANGALORE            Platimum   10002   \n",
       "..     ...      ...        ...         ...                 ...     ...   \n",
       "95      96      A96  29.631637     CHENNAI              Silver  100000   \n",
       "96      97      A97  20.611833  TRIVANDRUM            Platimum   10000   \n",
       "97      98      A98  40.538985    CALCUTTA            Platimum   10001   \n",
       "98      99      A99  21.588666    CALCUTTA            Platimum   10002   \n",
       "99     100     A100  23.607638      COCHIN              Silver  100000   \n",
       "\n",
       "   Company        Segment  SI No:  \n",
       "0       C1  Self Employed       1  \n",
       "1       C2   Salaried_MNC       2  \n",
       "2       C3   Salaried_Pvt       3  \n",
       "3       C4           Govt       4  \n",
       "4       C5  Normal Salary       5  \n",
       "..     ...            ...     ...  \n",
       "95     C19   Salaried_Pvt      96  \n",
       "96     C20           Govt      97  \n",
       "97     C21  Normal Salary      98  \n",
       "98     C22  Self Employed      99  \n",
       "99      C5   Salaried_MNC     100  \n",
       "\n",
       "[100 rows x 9 columns]>"
      ]
     },
     "execution_count": 143,
     "metadata": {},
     "output_type": "execute_result"
    }
   ],
   "source": [
    "credit_card.describe"
   ]
  },
  {
   "cell_type": "code",
   "execution_count": 144,
   "id": "b2d52716",
   "metadata": {},
   "outputs": [
    {
     "data": {
      "text/plain": [
       "0      0.928521\n",
       "1     35.534551\n",
       "2     11.559307\n",
       "3     45.820278\n",
       "4     69.663948\n",
       "        ...    \n",
       "95    29.631637\n",
       "96    20.611833\n",
       "97    40.538985\n",
       "98    21.588666\n",
       "99    23.607638\n",
       "Name: Age, Length: 100, dtype: float64"
      ]
     },
     "execution_count": 144,
     "metadata": {},
     "output_type": "execute_result"
    }
   ],
   "source": [
    "credit_card['Age']"
   ]
  },
  {
   "cell_type": "code",
   "execution_count": 145,
   "id": "56f425f0",
   "metadata": {},
   "outputs": [],
   "source": [
    "mean_age = credit_card[credit_card['Age'] > 18]['Age'].mean()"
   ]
  },
  {
   "cell_type": "code",
   "execution_count": 146,
   "id": "52ca30c7",
   "metadata": {},
   "outputs": [],
   "source": [
    "credit_card.loc[credit_card['Age'] < 18, 'Age'] = mean_age"
   ]
  },
  {
   "cell_type": "code",
   "execution_count": 147,
   "id": "521b4544",
   "metadata": {
    "scrolled": true
   },
   "outputs": [
    {
     "data": {
      "text/plain": [
       "0     49.292424\n",
       "1     35.534551\n",
       "2     49.292424\n",
       "3     45.820278\n",
       "4     69.663948\n",
       "        ...    \n",
       "95    29.631637\n",
       "96    20.611833\n",
       "97    40.538985\n",
       "98    21.588666\n",
       "99    23.607638\n",
       "Name: Age, Length: 100, dtype: float64"
      ]
     },
     "execution_count": 147,
     "metadata": {},
     "output_type": "execute_result"
    }
   ],
   "source": [
    "credit_card['Age']"
   ]
  },
  {
   "cell_type": "markdown",
   "id": "949bc8ad",
   "metadata": {},
   "source": [
    "## Reading repayment and spend sheet"
   ]
  },
  {
   "cell_type": "code",
   "execution_count": 148,
   "id": "8eb60fa3",
   "metadata": {
    "scrolled": true
   },
   "outputs": [],
   "source": [
    "spend = pd.read_excel(\"Credit Banking_Project1.xls\", sheet_name = \"Spend\")"
   ]
  },
  {
   "cell_type": "code",
   "execution_count": 149,
   "id": "2683359a",
   "metadata": {},
   "outputs": [
    {
     "data": {
      "text/html": [
       "<div>\n",
       "<style scoped>\n",
       "    .dataframe tbody tr th:only-of-type {\n",
       "        vertical-align: middle;\n",
       "    }\n",
       "\n",
       "    .dataframe tbody tr th {\n",
       "        vertical-align: top;\n",
       "    }\n",
       "\n",
       "    .dataframe thead th {\n",
       "        text-align: right;\n",
       "    }\n",
       "</style>\n",
       "<table border=\"1\" class=\"dataframe\">\n",
       "  <thead>\n",
       "    <tr style=\"text-align: right;\">\n",
       "      <th></th>\n",
       "      <th>SI No:</th>\n",
       "      <th>Costomer</th>\n",
       "      <th>Month</th>\n",
       "      <th>Type</th>\n",
       "      <th>Amount</th>\n",
       "    </tr>\n",
       "  </thead>\n",
       "  <tbody>\n",
       "    <tr>\n",
       "      <th>0</th>\n",
       "      <td>1</td>\n",
       "      <td>A1</td>\n",
       "      <td>2004-01-12</td>\n",
       "      <td>JEWELLERY</td>\n",
       "      <td>473775.834869</td>\n",
       "    </tr>\n",
       "    <tr>\n",
       "      <th>1</th>\n",
       "      <td>2</td>\n",
       "      <td>A1</td>\n",
       "      <td>2004-01-03</td>\n",
       "      <td>PETRO</td>\n",
       "      <td>335578.666019</td>\n",
       "    </tr>\n",
       "    <tr>\n",
       "      <th>2</th>\n",
       "      <td>3</td>\n",
       "      <td>A1</td>\n",
       "      <td>2004-01-15</td>\n",
       "      <td>CLOTHES</td>\n",
       "      <td>371040.941912</td>\n",
       "    </tr>\n",
       "    <tr>\n",
       "      <th>3</th>\n",
       "      <td>4</td>\n",
       "      <td>A1</td>\n",
       "      <td>2004-01-25</td>\n",
       "      <td>FOOD</td>\n",
       "      <td>141177.813256</td>\n",
       "    </tr>\n",
       "    <tr>\n",
       "      <th>4</th>\n",
       "      <td>5</td>\n",
       "      <td>A1</td>\n",
       "      <td>2005-01-17</td>\n",
       "      <td>CAMERA</td>\n",
       "      <td>398403.771812</td>\n",
       "    </tr>\n",
       "    <tr>\n",
       "      <th>...</th>\n",
       "      <td>...</td>\n",
       "      <td>...</td>\n",
       "      <td>...</td>\n",
       "      <td>...</td>\n",
       "      <td>...</td>\n",
       "    </tr>\n",
       "    <tr>\n",
       "      <th>1495</th>\n",
       "      <td>1496</td>\n",
       "      <td>A67</td>\n",
       "      <td>2006-02-04</td>\n",
       "      <td>BUS TICKET</td>\n",
       "      <td>195841.312215</td>\n",
       "    </tr>\n",
       "    <tr>\n",
       "      <th>1496</th>\n",
       "      <td>1497</td>\n",
       "      <td>A68</td>\n",
       "      <td>2006-03-25</td>\n",
       "      <td>BUS TICKET</td>\n",
       "      <td>284262.517709</td>\n",
       "    </tr>\n",
       "    <tr>\n",
       "      <th>1497</th>\n",
       "      <td>1498</td>\n",
       "      <td>A69</td>\n",
       "      <td>2006-03-31</td>\n",
       "      <td>BUS TICKET</td>\n",
       "      <td>206552.273598</td>\n",
       "    </tr>\n",
       "    <tr>\n",
       "      <th>1498</th>\n",
       "      <td>1499</td>\n",
       "      <td>A70</td>\n",
       "      <td>2006-03-23</td>\n",
       "      <td>BUS TICKET</td>\n",
       "      <td>41024.781283</td>\n",
       "    </tr>\n",
       "    <tr>\n",
       "      <th>1499</th>\n",
       "      <td>1500</td>\n",
       "      <td>A71</td>\n",
       "      <td>2006-03-24</td>\n",
       "      <td>BUS TICKET</td>\n",
       "      <td>101397.548588</td>\n",
       "    </tr>\n",
       "  </tbody>\n",
       "</table>\n",
       "<p>1500 rows × 5 columns</p>\n",
       "</div>"
      ],
      "text/plain": [
       "      SI No: Costomer      Month        Type         Amount\n",
       "0          1       A1 2004-01-12   JEWELLERY  473775.834869\n",
       "1          2       A1 2004-01-03       PETRO  335578.666019\n",
       "2          3       A1 2004-01-15     CLOTHES  371040.941912\n",
       "3          4       A1 2004-01-25        FOOD  141177.813256\n",
       "4          5       A1 2005-01-17      CAMERA  398403.771812\n",
       "...      ...      ...        ...         ...            ...\n",
       "1495    1496      A67 2006-02-04  BUS TICKET  195841.312215\n",
       "1496    1497      A68 2006-03-25  BUS TICKET  284262.517709\n",
       "1497    1498      A69 2006-03-31  BUS TICKET  206552.273598\n",
       "1498    1499      A70 2006-03-23  BUS TICKET   41024.781283\n",
       "1499    1500      A71 2006-03-24  BUS TICKET  101397.548588\n",
       "\n",
       "[1500 rows x 5 columns]"
      ]
     },
     "execution_count": 149,
     "metadata": {},
     "output_type": "execute_result"
    }
   ],
   "source": [
    "spend"
   ]
  },
  {
   "cell_type": "code",
   "execution_count": 150,
   "id": "ca4d0c84",
   "metadata": {},
   "outputs": [],
   "source": [
    "repay = pd.read_excel(\"Credit Banking_Project1.xls\", sheet_name = \"Repayment\")"
   ]
  },
  {
   "cell_type": "code",
   "execution_count": 151,
   "id": "95eacc2a",
   "metadata": {},
   "outputs": [
    {
     "data": {
      "text/html": [
       "<div>\n",
       "<style scoped>\n",
       "    .dataframe tbody tr th:only-of-type {\n",
       "        vertical-align: middle;\n",
       "    }\n",
       "\n",
       "    .dataframe tbody tr th {\n",
       "        vertical-align: top;\n",
       "    }\n",
       "\n",
       "    .dataframe thead th {\n",
       "        text-align: right;\n",
       "    }\n",
       "</style>\n",
       "<table border=\"1\" class=\"dataframe\">\n",
       "  <thead>\n",
       "    <tr style=\"text-align: right;\">\n",
       "      <th></th>\n",
       "      <th>SL No:</th>\n",
       "      <th>Costomer</th>\n",
       "      <th>Month</th>\n",
       "      <th>Amount</th>\n",
       "    </tr>\n",
       "  </thead>\n",
       "  <tbody>\n",
       "    <tr>\n",
       "      <th>0</th>\n",
       "      <td>1</td>\n",
       "      <td>A1</td>\n",
       "      <td>2004-01-12</td>\n",
       "      <td>331844.007374</td>\n",
       "    </tr>\n",
       "    <tr>\n",
       "      <th>1</th>\n",
       "      <td>2</td>\n",
       "      <td>A1</td>\n",
       "      <td>2004-01-03</td>\n",
       "      <td>441139.807335</td>\n",
       "    </tr>\n",
       "    <tr>\n",
       "      <th>2</th>\n",
       "      <td>3</td>\n",
       "      <td>A1</td>\n",
       "      <td>2004-01-15</td>\n",
       "      <td>32480.004009</td>\n",
       "    </tr>\n",
       "    <tr>\n",
       "      <th>3</th>\n",
       "      <td>4</td>\n",
       "      <td>A1</td>\n",
       "      <td>2004-01-25</td>\n",
       "      <td>90636.966534</td>\n",
       "    </tr>\n",
       "    <tr>\n",
       "      <th>4</th>\n",
       "      <td>5</td>\n",
       "      <td>A1</td>\n",
       "      <td>2005-01-17</td>\n",
       "      <td>1581.969829</td>\n",
       "    </tr>\n",
       "    <tr>\n",
       "      <th>...</th>\n",
       "      <td>...</td>\n",
       "      <td>...</td>\n",
       "      <td>...</td>\n",
       "      <td>...</td>\n",
       "    </tr>\n",
       "    <tr>\n",
       "      <th>1495</th>\n",
       "      <td>1496</td>\n",
       "      <td>A67</td>\n",
       "      <td>2005-05-09</td>\n",
       "      <td>200288.874065</td>\n",
       "    </tr>\n",
       "    <tr>\n",
       "      <th>1496</th>\n",
       "      <td>1497</td>\n",
       "      <td>A68</td>\n",
       "      <td>2006-05-10</td>\n",
       "      <td>231194.702295</td>\n",
       "    </tr>\n",
       "    <tr>\n",
       "      <th>1497</th>\n",
       "      <td>1498</td>\n",
       "      <td>A69</td>\n",
       "      <td>2006-07-11</td>\n",
       "      <td>391195.615836</td>\n",
       "    </tr>\n",
       "    <tr>\n",
       "      <th>1498</th>\n",
       "      <td>1499</td>\n",
       "      <td>A70</td>\n",
       "      <td>2005-08-12</td>\n",
       "      <td>357629.618186</td>\n",
       "    </tr>\n",
       "    <tr>\n",
       "      <th>1499</th>\n",
       "      <td>1500</td>\n",
       "      <td>A71</td>\n",
       "      <td>2004-09-13</td>\n",
       "      <td>179771.745248</td>\n",
       "    </tr>\n",
       "  </tbody>\n",
       "</table>\n",
       "<p>1500 rows × 4 columns</p>\n",
       "</div>"
      ],
      "text/plain": [
       "      SL No: Costomer      Month         Amount\n",
       "0          1       A1 2004-01-12  331844.007374\n",
       "1          2       A1 2004-01-03  441139.807335\n",
       "2          3       A1 2004-01-15   32480.004009\n",
       "3          4       A1 2004-01-25   90636.966534\n",
       "4          5       A1 2005-01-17    1581.969829\n",
       "...      ...      ...        ...            ...\n",
       "1495    1496      A67 2005-05-09  200288.874065\n",
       "1496    1497      A68 2006-05-10  231194.702295\n",
       "1497    1498      A69 2006-07-11  391195.615836\n",
       "1498    1499      A70 2005-08-12  357629.618186\n",
       "1499    1500      A71 2004-09-13  179771.745248\n",
       "\n",
       "[1500 rows x 4 columns]"
      ]
     },
     "execution_count": 151,
     "metadata": {},
     "output_type": "execute_result"
    }
   ],
   "source": [
    "repay"
   ]
  },
  {
   "cell_type": "code",
   "execution_count": 152,
   "id": "8a138423",
   "metadata": {},
   "outputs": [],
   "source": [
    "repay['variation'] = repay['Amount'] - spend['Amount']"
   ]
  },
  {
   "cell_type": "code",
   "execution_count": 153,
   "id": "e87d8ea8",
   "metadata": {},
   "outputs": [],
   "source": [
    "repay['surplus'] = repay['variation']*0.02"
   ]
  },
  {
   "cell_type": "code",
   "execution_count": 154,
   "id": "893781ef",
   "metadata": {},
   "outputs": [
    {
     "data": {
      "text/plain": [
       "0      -2838.636550\n",
       "1       2111.222826\n",
       "2      -6771.218758\n",
       "3      -1010.816934\n",
       "4      -7936.436040\n",
       "           ...     \n",
       "1495      88.951237\n",
       "1496   -1061.356308\n",
       "1497    3692.866845\n",
       "1498    6332.096738\n",
       "1499    1567.483933\n",
       "Name: surplus, Length: 1500, dtype: float64"
      ]
     },
     "execution_count": 154,
     "metadata": {},
     "output_type": "execute_result"
    }
   ],
   "source": [
    "repay['surplus']"
   ]
  },
  {
   "cell_type": "code",
   "execution_count": 155,
   "id": "2cfbf6b1",
   "metadata": {
    "scrolled": true
   },
   "outputs": [
    {
     "data": {
      "text/html": [
       "<div>\n",
       "<style scoped>\n",
       "    .dataframe tbody tr th:only-of-type {\n",
       "        vertical-align: middle;\n",
       "    }\n",
       "\n",
       "    .dataframe tbody tr th {\n",
       "        vertical-align: top;\n",
       "    }\n",
       "\n",
       "    .dataframe thead th {\n",
       "        text-align: right;\n",
       "    }\n",
       "</style>\n",
       "<table border=\"1\" class=\"dataframe\">\n",
       "  <thead>\n",
       "    <tr style=\"text-align: right;\">\n",
       "      <th></th>\n",
       "      <th>SL No:</th>\n",
       "      <th>Costomer</th>\n",
       "      <th>Month</th>\n",
       "      <th>Amount</th>\n",
       "      <th>surplus</th>\n",
       "    </tr>\n",
       "  </thead>\n",
       "  <tbody>\n",
       "    <tr>\n",
       "      <th>1</th>\n",
       "      <td>2</td>\n",
       "      <td>A1</td>\n",
       "      <td>2004-01-03</td>\n",
       "      <td>441139.807335</td>\n",
       "      <td>2111.222826</td>\n",
       "    </tr>\n",
       "    <tr>\n",
       "      <th>6</th>\n",
       "      <td>7</td>\n",
       "      <td>A1</td>\n",
       "      <td>2005-02-01</td>\n",
       "      <td>280990.709927</td>\n",
       "      <td>1232.974963</td>\n",
       "    </tr>\n",
       "    <tr>\n",
       "      <th>7</th>\n",
       "      <td>8</td>\n",
       "      <td>A8</td>\n",
       "      <td>2004-02-05</td>\n",
       "      <td>117697.053061</td>\n",
       "      <td>1147.908167</td>\n",
       "    </tr>\n",
       "    <tr>\n",
       "      <th>9</th>\n",
       "      <td>10</td>\n",
       "      <td>A10</td>\n",
       "      <td>2005-02-16</td>\n",
       "      <td>407418.805366</td>\n",
       "      <td>6726.031867</td>\n",
       "    </tr>\n",
       "    <tr>\n",
       "      <th>11</th>\n",
       "      <td>12</td>\n",
       "      <td>A12</td>\n",
       "      <td>2005-02-03</td>\n",
       "      <td>227656.566154</td>\n",
       "      <td>2663.728573</td>\n",
       "    </tr>\n",
       "    <tr>\n",
       "      <th>...</th>\n",
       "      <td>...</td>\n",
       "      <td>...</td>\n",
       "      <td>...</td>\n",
       "      <td>...</td>\n",
       "      <td>...</td>\n",
       "    </tr>\n",
       "    <tr>\n",
       "      <th>1494</th>\n",
       "      <td>1495</td>\n",
       "      <td>A66</td>\n",
       "      <td>2006-05-08</td>\n",
       "      <td>419497.942321</td>\n",
       "      <td>8373.440204</td>\n",
       "    </tr>\n",
       "    <tr>\n",
       "      <th>1495</th>\n",
       "      <td>1496</td>\n",
       "      <td>A67</td>\n",
       "      <td>2005-05-09</td>\n",
       "      <td>200288.874065</td>\n",
       "      <td>88.951237</td>\n",
       "    </tr>\n",
       "    <tr>\n",
       "      <th>1497</th>\n",
       "      <td>1498</td>\n",
       "      <td>A69</td>\n",
       "      <td>2006-07-11</td>\n",
       "      <td>391195.615836</td>\n",
       "      <td>3692.866845</td>\n",
       "    </tr>\n",
       "    <tr>\n",
       "      <th>1498</th>\n",
       "      <td>1499</td>\n",
       "      <td>A70</td>\n",
       "      <td>2005-08-12</td>\n",
       "      <td>357629.618186</td>\n",
       "      <td>6332.096738</td>\n",
       "    </tr>\n",
       "    <tr>\n",
       "      <th>1499</th>\n",
       "      <td>1500</td>\n",
       "      <td>A71</td>\n",
       "      <td>2004-09-13</td>\n",
       "      <td>179771.745248</td>\n",
       "      <td>1567.483933</td>\n",
       "    </tr>\n",
       "  </tbody>\n",
       "</table>\n",
       "<p>712 rows × 5 columns</p>\n",
       "</div>"
      ],
      "text/plain": [
       "      SL No: Costomer      Month         Amount      surplus\n",
       "1          2       A1 2004-01-03  441139.807335  2111.222826\n",
       "6          7       A1 2005-02-01  280990.709927  1232.974963\n",
       "7          8       A8 2004-02-05  117697.053061  1147.908167\n",
       "9         10      A10 2005-02-16  407418.805366  6726.031867\n",
       "11        12      A12 2005-02-03  227656.566154  2663.728573\n",
       "...      ...      ...        ...            ...          ...\n",
       "1494    1495      A66 2006-05-08  419497.942321  8373.440204\n",
       "1495    1496      A67 2005-05-09  200288.874065    88.951237\n",
       "1497    1498      A69 2006-07-11  391195.615836  3692.866845\n",
       "1498    1499      A70 2005-08-12  357629.618186  6332.096738\n",
       "1499    1500      A71 2004-09-13  179771.745248  1567.483933\n",
       "\n",
       "[712 rows x 5 columns]"
      ]
     },
     "execution_count": 155,
     "metadata": {},
     "output_type": "execute_result"
    }
   ],
   "source": [
    "surplus_data = repay.drop(['variation'],axis=1)\n",
    "surplus_data = surplus_data[surplus_data['surplus']>0]\n",
    "surplus_data"
   ]
  },
  {
   "cell_type": "code",
   "execution_count": 159,
   "id": "ef55e028",
   "metadata": {},
   "outputs": [],
   "source": [
    "surplus_data['next_billing_amount'] = surplus_data['Amount'] - surplus_data['surplus']"
   ]
  },
  {
   "cell_type": "code",
   "execution_count": 160,
   "id": "02b661fb",
   "metadata": {},
   "outputs": [
    {
     "data": {
      "text/html": [
       "<div>\n",
       "<style scoped>\n",
       "    .dataframe tbody tr th:only-of-type {\n",
       "        vertical-align: middle;\n",
       "    }\n",
       "\n",
       "    .dataframe tbody tr th {\n",
       "        vertical-align: top;\n",
       "    }\n",
       "\n",
       "    .dataframe thead th {\n",
       "        text-align: right;\n",
       "    }\n",
       "</style>\n",
       "<table border=\"1\" class=\"dataframe\">\n",
       "  <thead>\n",
       "    <tr style=\"text-align: right;\">\n",
       "      <th></th>\n",
       "      <th>SL No:</th>\n",
       "      <th>Costomer</th>\n",
       "      <th>Month</th>\n",
       "      <th>Amount</th>\n",
       "      <th>surplus</th>\n",
       "      <th>next_billing_amount</th>\n",
       "    </tr>\n",
       "  </thead>\n",
       "  <tbody>\n",
       "    <tr>\n",
       "      <th>1</th>\n",
       "      <td>2</td>\n",
       "      <td>A1</td>\n",
       "      <td>2004-01-03</td>\n",
       "      <td>441139.807335</td>\n",
       "      <td>2111.222826</td>\n",
       "      <td>439028.584509</td>\n",
       "    </tr>\n",
       "    <tr>\n",
       "      <th>6</th>\n",
       "      <td>7</td>\n",
       "      <td>A1</td>\n",
       "      <td>2005-02-01</td>\n",
       "      <td>280990.709927</td>\n",
       "      <td>1232.974963</td>\n",
       "      <td>279757.734964</td>\n",
       "    </tr>\n",
       "    <tr>\n",
       "      <th>7</th>\n",
       "      <td>8</td>\n",
       "      <td>A8</td>\n",
       "      <td>2004-02-05</td>\n",
       "      <td>117697.053061</td>\n",
       "      <td>1147.908167</td>\n",
       "      <td>116549.144894</td>\n",
       "    </tr>\n",
       "    <tr>\n",
       "      <th>9</th>\n",
       "      <td>10</td>\n",
       "      <td>A10</td>\n",
       "      <td>2005-02-16</td>\n",
       "      <td>407418.805366</td>\n",
       "      <td>6726.031867</td>\n",
       "      <td>400692.773499</td>\n",
       "    </tr>\n",
       "    <tr>\n",
       "      <th>11</th>\n",
       "      <td>12</td>\n",
       "      <td>A12</td>\n",
       "      <td>2005-02-03</td>\n",
       "      <td>227656.566154</td>\n",
       "      <td>2663.728573</td>\n",
       "      <td>224992.837581</td>\n",
       "    </tr>\n",
       "    <tr>\n",
       "      <th>...</th>\n",
       "      <td>...</td>\n",
       "      <td>...</td>\n",
       "      <td>...</td>\n",
       "      <td>...</td>\n",
       "      <td>...</td>\n",
       "      <td>...</td>\n",
       "    </tr>\n",
       "    <tr>\n",
       "      <th>1494</th>\n",
       "      <td>1495</td>\n",
       "      <td>A66</td>\n",
       "      <td>2006-05-08</td>\n",
       "      <td>419497.942321</td>\n",
       "      <td>8373.440204</td>\n",
       "      <td>411124.502117</td>\n",
       "    </tr>\n",
       "    <tr>\n",
       "      <th>1495</th>\n",
       "      <td>1496</td>\n",
       "      <td>A67</td>\n",
       "      <td>2005-05-09</td>\n",
       "      <td>200288.874065</td>\n",
       "      <td>88.951237</td>\n",
       "      <td>200199.922828</td>\n",
       "    </tr>\n",
       "    <tr>\n",
       "      <th>1497</th>\n",
       "      <td>1498</td>\n",
       "      <td>A69</td>\n",
       "      <td>2006-07-11</td>\n",
       "      <td>391195.615836</td>\n",
       "      <td>3692.866845</td>\n",
       "      <td>387502.748991</td>\n",
       "    </tr>\n",
       "    <tr>\n",
       "      <th>1498</th>\n",
       "      <td>1499</td>\n",
       "      <td>A70</td>\n",
       "      <td>2005-08-12</td>\n",
       "      <td>357629.618186</td>\n",
       "      <td>6332.096738</td>\n",
       "      <td>351297.521448</td>\n",
       "    </tr>\n",
       "    <tr>\n",
       "      <th>1499</th>\n",
       "      <td>1500</td>\n",
       "      <td>A71</td>\n",
       "      <td>2004-09-13</td>\n",
       "      <td>179771.745248</td>\n",
       "      <td>1567.483933</td>\n",
       "      <td>178204.261315</td>\n",
       "    </tr>\n",
       "  </tbody>\n",
       "</table>\n",
       "<p>712 rows × 6 columns</p>\n",
       "</div>"
      ],
      "text/plain": [
       "      SL No: Costomer      Month         Amount      surplus  \\\n",
       "1          2       A1 2004-01-03  441139.807335  2111.222826   \n",
       "6          7       A1 2005-02-01  280990.709927  1232.974963   \n",
       "7          8       A8 2004-02-05  117697.053061  1147.908167   \n",
       "9         10      A10 2005-02-16  407418.805366  6726.031867   \n",
       "11        12      A12 2005-02-03  227656.566154  2663.728573   \n",
       "...      ...      ...        ...            ...          ...   \n",
       "1494    1495      A66 2006-05-08  419497.942321  8373.440204   \n",
       "1495    1496      A67 2005-05-09  200288.874065    88.951237   \n",
       "1497    1498      A69 2006-07-11  391195.615836  3692.866845   \n",
       "1498    1499      A70 2005-08-12  357629.618186  6332.096738   \n",
       "1499    1500      A71 2004-09-13  179771.745248  1567.483933   \n",
       "\n",
       "      next_billing_amount  \n",
       "1           439028.584509  \n",
       "6           279757.734964  \n",
       "7           116549.144894  \n",
       "9           400692.773499  \n",
       "11          224992.837581  \n",
       "...                   ...  \n",
       "1494        411124.502117  \n",
       "1495        200199.922828  \n",
       "1497        387502.748991  \n",
       "1498        351297.521448  \n",
       "1499        178204.261315  \n",
       "\n",
       "[712 rows x 6 columns]"
      ]
     },
     "execution_count": 160,
     "metadata": {},
     "output_type": "execute_result"
    }
   ],
   "source": [
    "surplus_data"
   ]
  },
  {
   "cell_type": "markdown",
   "id": "bad81e99",
   "metadata": {},
   "source": [
    "## Monthly spend of each customer"
   ]
  },
  {
   "cell_type": "code",
   "execution_count": 167,
   "id": "1a9e0259",
   "metadata": {
    "scrolled": true
   },
   "outputs": [
    {
     "data": {
      "text/plain": [
       "0       2004-01\n",
       "1       2004-01\n",
       "2       2004-01\n",
       "3       2004-01\n",
       "4       2005-01\n",
       "         ...   \n",
       "1495    2006-02\n",
       "1496    2006-03\n",
       "1497    2006-03\n",
       "1498    2006-03\n",
       "1499    2006-03\n",
       "Name: Month, Length: 1500, dtype: period[M]"
      ]
     },
     "execution_count": 167,
     "metadata": {},
     "output_type": "execute_result"
    }
   ],
   "source": [
    "spend['Month']"
   ]
  },
  {
   "cell_type": "code",
   "execution_count": 169,
   "id": "717b7aec",
   "metadata": {},
   "outputs": [],
   "source": [
    "monthly_spend = spend.groupby(['Costomer' , 'Month'])['Amount'].sum()"
   ]
  },
  {
   "cell_type": "code",
   "execution_count": 170,
   "id": "28f8e1ec",
   "metadata": {},
   "outputs": [],
   "source": [
    "monthly_spend = pd.DataFrame(monthly_spend)"
   ]
  },
  {
   "cell_type": "code",
   "execution_count": 171,
   "id": "863e834b",
   "metadata": {},
   "outputs": [
    {
     "data": {
      "text/html": [
       "<div>\n",
       "<style scoped>\n",
       "    .dataframe tbody tr th:only-of-type {\n",
       "        vertical-align: middle;\n",
       "    }\n",
       "\n",
       "    .dataframe tbody tr th {\n",
       "        vertical-align: top;\n",
       "    }\n",
       "\n",
       "    .dataframe thead th {\n",
       "        text-align: right;\n",
       "    }\n",
       "</style>\n",
       "<table border=\"1\" class=\"dataframe\">\n",
       "  <thead>\n",
       "    <tr style=\"text-align: right;\">\n",
       "      <th></th>\n",
       "      <th></th>\n",
       "      <th>Amount</th>\n",
       "    </tr>\n",
       "    <tr>\n",
       "      <th>Costomer</th>\n",
       "      <th>Month</th>\n",
       "      <th></th>\n",
       "    </tr>\n",
       "  </thead>\n",
       "  <tbody>\n",
       "    <tr>\n",
       "      <th rowspan=\"5\" valign=\"top\">A1</th>\n",
       "      <th>2004-01</th>\n",
       "      <td>1.511173e+06</td>\n",
       "    </tr>\n",
       "    <tr>\n",
       "      <th>2004-02</th>\n",
       "      <td>4.138111e+04</td>\n",
       "    </tr>\n",
       "    <tr>\n",
       "      <th>2004-05</th>\n",
       "      <td>1.311966e+05</td>\n",
       "    </tr>\n",
       "    <tr>\n",
       "      <th>2005-01</th>\n",
       "      <td>3.984038e+05</td>\n",
       "    </tr>\n",
       "    <tr>\n",
       "      <th>2005-02</th>\n",
       "      <td>1.404193e+06</td>\n",
       "    </tr>\n",
       "    <tr>\n",
       "      <th>...</th>\n",
       "      <th>...</th>\n",
       "      <td>...</td>\n",
       "    </tr>\n",
       "    <tr>\n",
       "      <th>A95</th>\n",
       "      <th>2004-01</th>\n",
       "      <td>3.478339e+05</td>\n",
       "    </tr>\n",
       "    <tr>\n",
       "      <th>A96</th>\n",
       "      <th>2004-01</th>\n",
       "      <td>3.203635e+05</td>\n",
       "    </tr>\n",
       "    <tr>\n",
       "      <th>A97</th>\n",
       "      <th>2004-01</th>\n",
       "      <td>1.643300e+05</td>\n",
       "    </tr>\n",
       "    <tr>\n",
       "      <th>A98</th>\n",
       "      <th>2004-01</th>\n",
       "      <td>8.748351e+04</td>\n",
       "    </tr>\n",
       "    <tr>\n",
       "      <th>A99</th>\n",
       "      <th>2004-01</th>\n",
       "      <td>4.760204e+05</td>\n",
       "    </tr>\n",
       "  </tbody>\n",
       "</table>\n",
       "<p>807 rows × 1 columns</p>\n",
       "</div>"
      ],
      "text/plain": [
       "                        Amount\n",
       "Costomer Month                \n",
       "A1       2004-01  1.511173e+06\n",
       "         2004-02  4.138111e+04\n",
       "         2004-05  1.311966e+05\n",
       "         2005-01  3.984038e+05\n",
       "         2005-02  1.404193e+06\n",
       "...                        ...\n",
       "A95      2004-01  3.478339e+05\n",
       "A96      2004-01  3.203635e+05\n",
       "A97      2004-01  1.643300e+05\n",
       "A98      2004-01  8.748351e+04\n",
       "A99      2004-01  4.760204e+05\n",
       "\n",
       "[807 rows x 1 columns]"
      ]
     },
     "execution_count": 171,
     "metadata": {},
     "output_type": "execute_result"
    }
   ],
   "source": [
    "monthly_spend"
   ]
  },
  {
   "cell_type": "markdown",
   "id": "75c5fe1e",
   "metadata": {},
   "source": [
    "## Monthly repayment of each customer"
   ]
  },
  {
   "cell_type": "code",
   "execution_count": 173,
   "id": "1544f7fc",
   "metadata": {},
   "outputs": [],
   "source": [
    "repay['Month'] = pd.to_datetime(repay['Month']).dt.to_period('M')"
   ]
  },
  {
   "cell_type": "code",
   "execution_count": 174,
   "id": "53e0bfec",
   "metadata": {},
   "outputs": [],
   "source": [
    "monthly_repay = repay.groupby(['Costomer' , 'Month'])['Amount'].sum()"
   ]
  },
  {
   "cell_type": "code",
   "execution_count": 175,
   "id": "da67c098",
   "metadata": {},
   "outputs": [],
   "source": [
    "monthly_repay = pd.DataFrame(monthly_repay)"
   ]
  },
  {
   "cell_type": "code",
   "execution_count": 176,
   "id": "5db29031",
   "metadata": {},
   "outputs": [
    {
     "data": {
      "text/html": [
       "<div>\n",
       "<style scoped>\n",
       "    .dataframe tbody tr th:only-of-type {\n",
       "        vertical-align: middle;\n",
       "    }\n",
       "\n",
       "    .dataframe tbody tr th {\n",
       "        vertical-align: top;\n",
       "    }\n",
       "\n",
       "    .dataframe thead th {\n",
       "        text-align: right;\n",
       "    }\n",
       "</style>\n",
       "<table border=\"1\" class=\"dataframe\">\n",
       "  <thead>\n",
       "    <tr style=\"text-align: right;\">\n",
       "      <th></th>\n",
       "      <th></th>\n",
       "      <th>Amount</th>\n",
       "    </tr>\n",
       "    <tr>\n",
       "      <th>Costomer</th>\n",
       "      <th>Month</th>\n",
       "      <th></th>\n",
       "    </tr>\n",
       "  </thead>\n",
       "  <tbody>\n",
       "    <tr>\n",
       "      <th rowspan=\"5\" valign=\"top\">A1</th>\n",
       "      <th>2004-01</th>\n",
       "      <td>1.362775e+06</td>\n",
       "    </tr>\n",
       "    <tr>\n",
       "      <th>2004-02</th>\n",
       "      <td>1.911800e+05</td>\n",
       "    </tr>\n",
       "    <tr>\n",
       "      <th>2005-01</th>\n",
       "      <td>1.581970e+03</td>\n",
       "    </tr>\n",
       "    <tr>\n",
       "      <th>2005-02</th>\n",
       "      <td>1.199808e+06</td>\n",
       "    </tr>\n",
       "    <tr>\n",
       "      <th>2005-07</th>\n",
       "      <td>3.005817e+05</td>\n",
       "    </tr>\n",
       "    <tr>\n",
       "      <th>...</th>\n",
       "      <th>...</th>\n",
       "      <td>...</td>\n",
       "    </tr>\n",
       "    <tr>\n",
       "      <th>A95</th>\n",
       "      <th>2004-01</th>\n",
       "      <td>7.510949e+04</td>\n",
       "    </tr>\n",
       "    <tr>\n",
       "      <th>A96</th>\n",
       "      <th>2004-01</th>\n",
       "      <td>1.101390e+05</td>\n",
       "    </tr>\n",
       "    <tr>\n",
       "      <th>A97</th>\n",
       "      <th>2004-01</th>\n",
       "      <td>1.746064e+05</td>\n",
       "    </tr>\n",
       "    <tr>\n",
       "      <th>A98</th>\n",
       "      <th>2004-01</th>\n",
       "      <td>9.780260e+04</td>\n",
       "    </tr>\n",
       "    <tr>\n",
       "      <th>A99</th>\n",
       "      <th>2004-01</th>\n",
       "      <td>3.585899e+05</td>\n",
       "    </tr>\n",
       "  </tbody>\n",
       "</table>\n",
       "<p>798 rows × 1 columns</p>\n",
       "</div>"
      ],
      "text/plain": [
       "                        Amount\n",
       "Costomer Month                \n",
       "A1       2004-01  1.362775e+06\n",
       "         2004-02  1.911800e+05\n",
       "         2005-01  1.581970e+03\n",
       "         2005-02  1.199808e+06\n",
       "         2005-07  3.005817e+05\n",
       "...                        ...\n",
       "A95      2004-01  7.510949e+04\n",
       "A96      2004-01  1.101390e+05\n",
       "A97      2004-01  1.746064e+05\n",
       "A98      2004-01  9.780260e+04\n",
       "A99      2004-01  3.585899e+05\n",
       "\n",
       "[798 rows x 1 columns]"
      ]
     },
     "execution_count": 176,
     "metadata": {},
     "output_type": "execute_result"
    }
   ],
   "source": [
    "monthly_repay"
   ]
  },
  {
   "cell_type": "code",
   "execution_count": 177,
   "id": "db24995b",
   "metadata": {},
   "outputs": [],
   "source": [
    "highest_10 = repay.groupby(['Costomer'])['Amount'].sum().nlargest(10)"
   ]
  },
  {
   "cell_type": "code",
   "execution_count": 178,
   "id": "11b9e754",
   "metadata": {},
   "outputs": [
    {
     "data": {
      "text/plain": [
       "Costomer\n",
       "A22    9.767171e+06\n",
       "A60    9.262032e+06\n",
       "A61    8.807888e+06\n",
       "A40    8.805085e+06\n",
       "A47    8.529826e+06\n",
       "A43    8.458621e+06\n",
       "A48    8.432804e+06\n",
       "A41    8.374046e+06\n",
       "A49    8.259841e+06\n",
       "A45    8.115210e+06\n",
       "Name: Amount, dtype: float64"
      ]
     },
     "execution_count": 178,
     "metadata": {},
     "output_type": "execute_result"
    }
   ],
   "source": [
    "highest_10"
   ]
  },
  {
   "cell_type": "markdown",
   "id": "33f2ab7f",
   "metadata": {},
   "source": [
    "## People in which segment are spending more money"
   ]
  },
  {
   "cell_type": "code",
   "execution_count": 179,
   "id": "dd1bdb9d",
   "metadata": {},
   "outputs": [],
   "source": [
    "spend = spend.rename(columns = {'Costomer':'Customer'})"
   ]
  },
  {
   "cell_type": "code",
   "execution_count": 180,
   "id": "ab82f113",
   "metadata": {},
   "outputs": [
    {
     "data": {
      "text/html": [
       "<div>\n",
       "<style scoped>\n",
       "    .dataframe tbody tr th:only-of-type {\n",
       "        vertical-align: middle;\n",
       "    }\n",
       "\n",
       "    .dataframe tbody tr th {\n",
       "        vertical-align: top;\n",
       "    }\n",
       "\n",
       "    .dataframe thead th {\n",
       "        text-align: right;\n",
       "    }\n",
       "</style>\n",
       "<table border=\"1\" class=\"dataframe\">\n",
       "  <thead>\n",
       "    <tr style=\"text-align: right;\">\n",
       "      <th></th>\n",
       "      <th>SI No:</th>\n",
       "      <th>Customer</th>\n",
       "      <th>Month</th>\n",
       "      <th>Type</th>\n",
       "      <th>Amount</th>\n",
       "    </tr>\n",
       "  </thead>\n",
       "  <tbody>\n",
       "    <tr>\n",
       "      <th>0</th>\n",
       "      <td>1</td>\n",
       "      <td>A1</td>\n",
       "      <td>2004-01</td>\n",
       "      <td>JEWELLERY</td>\n",
       "      <td>473775.834869</td>\n",
       "    </tr>\n",
       "    <tr>\n",
       "      <th>1</th>\n",
       "      <td>2</td>\n",
       "      <td>A1</td>\n",
       "      <td>2004-01</td>\n",
       "      <td>PETRO</td>\n",
       "      <td>335578.666019</td>\n",
       "    </tr>\n",
       "    <tr>\n",
       "      <th>2</th>\n",
       "      <td>3</td>\n",
       "      <td>A1</td>\n",
       "      <td>2004-01</td>\n",
       "      <td>CLOTHES</td>\n",
       "      <td>371040.941912</td>\n",
       "    </tr>\n",
       "    <tr>\n",
       "      <th>3</th>\n",
       "      <td>4</td>\n",
       "      <td>A1</td>\n",
       "      <td>2004-01</td>\n",
       "      <td>FOOD</td>\n",
       "      <td>141177.813256</td>\n",
       "    </tr>\n",
       "    <tr>\n",
       "      <th>4</th>\n",
       "      <td>5</td>\n",
       "      <td>A1</td>\n",
       "      <td>2005-01</td>\n",
       "      <td>CAMERA</td>\n",
       "      <td>398403.771812</td>\n",
       "    </tr>\n",
       "    <tr>\n",
       "      <th>...</th>\n",
       "      <td>...</td>\n",
       "      <td>...</td>\n",
       "      <td>...</td>\n",
       "      <td>...</td>\n",
       "      <td>...</td>\n",
       "    </tr>\n",
       "    <tr>\n",
       "      <th>1495</th>\n",
       "      <td>1496</td>\n",
       "      <td>A67</td>\n",
       "      <td>2006-02</td>\n",
       "      <td>BUS TICKET</td>\n",
       "      <td>195841.312215</td>\n",
       "    </tr>\n",
       "    <tr>\n",
       "      <th>1496</th>\n",
       "      <td>1497</td>\n",
       "      <td>A68</td>\n",
       "      <td>2006-03</td>\n",
       "      <td>BUS TICKET</td>\n",
       "      <td>284262.517709</td>\n",
       "    </tr>\n",
       "    <tr>\n",
       "      <th>1497</th>\n",
       "      <td>1498</td>\n",
       "      <td>A69</td>\n",
       "      <td>2006-03</td>\n",
       "      <td>BUS TICKET</td>\n",
       "      <td>206552.273598</td>\n",
       "    </tr>\n",
       "    <tr>\n",
       "      <th>1498</th>\n",
       "      <td>1499</td>\n",
       "      <td>A70</td>\n",
       "      <td>2006-03</td>\n",
       "      <td>BUS TICKET</td>\n",
       "      <td>41024.781283</td>\n",
       "    </tr>\n",
       "    <tr>\n",
       "      <th>1499</th>\n",
       "      <td>1500</td>\n",
       "      <td>A71</td>\n",
       "      <td>2006-03</td>\n",
       "      <td>BUS TICKET</td>\n",
       "      <td>101397.548588</td>\n",
       "    </tr>\n",
       "  </tbody>\n",
       "</table>\n",
       "<p>1500 rows × 5 columns</p>\n",
       "</div>"
      ],
      "text/plain": [
       "      SI No: Customer    Month        Type         Amount\n",
       "0          1       A1  2004-01   JEWELLERY  473775.834869\n",
       "1          2       A1  2004-01       PETRO  335578.666019\n",
       "2          3       A1  2004-01     CLOTHES  371040.941912\n",
       "3          4       A1  2004-01        FOOD  141177.813256\n",
       "4          5       A1  2005-01      CAMERA  398403.771812\n",
       "...      ...      ...      ...         ...            ...\n",
       "1495    1496      A67  2006-02  BUS TICKET  195841.312215\n",
       "1496    1497      A68  2006-03  BUS TICKET  284262.517709\n",
       "1497    1498      A69  2006-03  BUS TICKET  206552.273598\n",
       "1498    1499      A70  2006-03  BUS TICKET   41024.781283\n",
       "1499    1500      A71  2006-03  BUS TICKET  101397.548588\n",
       "\n",
       "[1500 rows x 5 columns]"
      ]
     },
     "execution_count": 180,
     "metadata": {},
     "output_type": "execute_result"
    }
   ],
   "source": [
    "spend"
   ]
  },
  {
   "cell_type": "code",
   "execution_count": 181,
   "id": "80595a18",
   "metadata": {
    "scrolled": true
   },
   "outputs": [],
   "source": [
    "merge_credit_spend = pd.merge(credit_card,spend,on = 'Customer',how = 'left')"
   ]
  },
  {
   "cell_type": "code",
   "execution_count": 182,
   "id": "5ef10e24",
   "metadata": {},
   "outputs": [
    {
     "data": {
      "text/html": [
       "<div>\n",
       "<style scoped>\n",
       "    .dataframe tbody tr th:only-of-type {\n",
       "        vertical-align: middle;\n",
       "    }\n",
       "\n",
       "    .dataframe tbody tr th {\n",
       "        vertical-align: top;\n",
       "    }\n",
       "\n",
       "    .dataframe thead th {\n",
       "        text-align: right;\n",
       "    }\n",
       "</style>\n",
       "<table border=\"1\" class=\"dataframe\">\n",
       "  <thead>\n",
       "    <tr style=\"text-align: right;\">\n",
       "      <th></th>\n",
       "      <th>Sl No:</th>\n",
       "      <th>Customer</th>\n",
       "      <th>Age</th>\n",
       "      <th>City</th>\n",
       "      <th>Credit Card Product</th>\n",
       "      <th>Limit</th>\n",
       "      <th>Company</th>\n",
       "      <th>Segment</th>\n",
       "      <th>SI No:_x</th>\n",
       "      <th>SI No:_y</th>\n",
       "      <th>Month</th>\n",
       "      <th>Type</th>\n",
       "      <th>Amount</th>\n",
       "    </tr>\n",
       "  </thead>\n",
       "  <tbody>\n",
       "    <tr>\n",
       "      <th>0</th>\n",
       "      <td>1</td>\n",
       "      <td>A1</td>\n",
       "      <td>49.292424</td>\n",
       "      <td>BANGALORE</td>\n",
       "      <td>Gold</td>\n",
       "      <td>500000</td>\n",
       "      <td>C1</td>\n",
       "      <td>Self Employed</td>\n",
       "      <td>1</td>\n",
       "      <td>1</td>\n",
       "      <td>2004-01</td>\n",
       "      <td>JEWELLERY</td>\n",
       "      <td>473775.834869</td>\n",
       "    </tr>\n",
       "    <tr>\n",
       "      <th>1</th>\n",
       "      <td>1</td>\n",
       "      <td>A1</td>\n",
       "      <td>49.292424</td>\n",
       "      <td>BANGALORE</td>\n",
       "      <td>Gold</td>\n",
       "      <td>500000</td>\n",
       "      <td>C1</td>\n",
       "      <td>Self Employed</td>\n",
       "      <td>1</td>\n",
       "      <td>2</td>\n",
       "      <td>2004-01</td>\n",
       "      <td>PETRO</td>\n",
       "      <td>335578.666019</td>\n",
       "    </tr>\n",
       "    <tr>\n",
       "      <th>2</th>\n",
       "      <td>1</td>\n",
       "      <td>A1</td>\n",
       "      <td>49.292424</td>\n",
       "      <td>BANGALORE</td>\n",
       "      <td>Gold</td>\n",
       "      <td>500000</td>\n",
       "      <td>C1</td>\n",
       "      <td>Self Employed</td>\n",
       "      <td>1</td>\n",
       "      <td>3</td>\n",
       "      <td>2004-01</td>\n",
       "      <td>CLOTHES</td>\n",
       "      <td>371040.941912</td>\n",
       "    </tr>\n",
       "    <tr>\n",
       "      <th>3</th>\n",
       "      <td>1</td>\n",
       "      <td>A1</td>\n",
       "      <td>49.292424</td>\n",
       "      <td>BANGALORE</td>\n",
       "      <td>Gold</td>\n",
       "      <td>500000</td>\n",
       "      <td>C1</td>\n",
       "      <td>Self Employed</td>\n",
       "      <td>1</td>\n",
       "      <td>4</td>\n",
       "      <td>2004-01</td>\n",
       "      <td>FOOD</td>\n",
       "      <td>141177.813256</td>\n",
       "    </tr>\n",
       "    <tr>\n",
       "      <th>4</th>\n",
       "      <td>1</td>\n",
       "      <td>A1</td>\n",
       "      <td>49.292424</td>\n",
       "      <td>BANGALORE</td>\n",
       "      <td>Gold</td>\n",
       "      <td>500000</td>\n",
       "      <td>C1</td>\n",
       "      <td>Self Employed</td>\n",
       "      <td>1</td>\n",
       "      <td>5</td>\n",
       "      <td>2005-01</td>\n",
       "      <td>CAMERA</td>\n",
       "      <td>398403.771812</td>\n",
       "    </tr>\n",
       "    <tr>\n",
       "      <th>...</th>\n",
       "      <td>...</td>\n",
       "      <td>...</td>\n",
       "      <td>...</td>\n",
       "      <td>...</td>\n",
       "      <td>...</td>\n",
       "      <td>...</td>\n",
       "      <td>...</td>\n",
       "      <td>...</td>\n",
       "      <td>...</td>\n",
       "      <td>...</td>\n",
       "      <td>...</td>\n",
       "      <td>...</td>\n",
       "      <td>...</td>\n",
       "    </tr>\n",
       "    <tr>\n",
       "      <th>1495</th>\n",
       "      <td>96</td>\n",
       "      <td>A96</td>\n",
       "      <td>29.631637</td>\n",
       "      <td>CHENNAI</td>\n",
       "      <td>Silver</td>\n",
       "      <td>100000</td>\n",
       "      <td>C19</td>\n",
       "      <td>Salaried_Pvt</td>\n",
       "      <td>96</td>\n",
       "      <td>98</td>\n",
       "      <td>2004-01</td>\n",
       "      <td>BIKE</td>\n",
       "      <td>320363.535698</td>\n",
       "    </tr>\n",
       "    <tr>\n",
       "      <th>1496</th>\n",
       "      <td>97</td>\n",
       "      <td>A97</td>\n",
       "      <td>20.611833</td>\n",
       "      <td>TRIVANDRUM</td>\n",
       "      <td>Platimum</td>\n",
       "      <td>10000</td>\n",
       "      <td>C20</td>\n",
       "      <td>Govt</td>\n",
       "      <td>97</td>\n",
       "      <td>99</td>\n",
       "      <td>2004-01</td>\n",
       "      <td>AUTO</td>\n",
       "      <td>164330.042270</td>\n",
       "    </tr>\n",
       "    <tr>\n",
       "      <th>1497</th>\n",
       "      <td>98</td>\n",
       "      <td>A98</td>\n",
       "      <td>40.538985</td>\n",
       "      <td>CALCUTTA</td>\n",
       "      <td>Platimum</td>\n",
       "      <td>10001</td>\n",
       "      <td>C21</td>\n",
       "      <td>Normal Salary</td>\n",
       "      <td>98</td>\n",
       "      <td>100</td>\n",
       "      <td>2004-01</td>\n",
       "      <td>SHOPPING</td>\n",
       "      <td>87483.511992</td>\n",
       "    </tr>\n",
       "    <tr>\n",
       "      <th>1498</th>\n",
       "      <td>99</td>\n",
       "      <td>A99</td>\n",
       "      <td>21.588666</td>\n",
       "      <td>CALCUTTA</td>\n",
       "      <td>Platimum</td>\n",
       "      <td>10002</td>\n",
       "      <td>C22</td>\n",
       "      <td>Self Employed</td>\n",
       "      <td>99</td>\n",
       "      <td>101</td>\n",
       "      <td>2004-01</td>\n",
       "      <td>AIR TICKET</td>\n",
       "      <td>476020.386647</td>\n",
       "    </tr>\n",
       "    <tr>\n",
       "      <th>1499</th>\n",
       "      <td>100</td>\n",
       "      <td>A100</td>\n",
       "      <td>23.607638</td>\n",
       "      <td>COCHIN</td>\n",
       "      <td>Silver</td>\n",
       "      <td>100000</td>\n",
       "      <td>C5</td>\n",
       "      <td>Salaried_MNC</td>\n",
       "      <td>100</td>\n",
       "      <td>102</td>\n",
       "      <td>2004-01</td>\n",
       "      <td>BUS TICKET</td>\n",
       "      <td>42254.191499</td>\n",
       "    </tr>\n",
       "  </tbody>\n",
       "</table>\n",
       "<p>1500 rows × 13 columns</p>\n",
       "</div>"
      ],
      "text/plain": [
       "      Sl No: Customer        Age        City Credit Card Product   Limit  \\\n",
       "0          1       A1  49.292424   BANGALORE                Gold  500000   \n",
       "1          1       A1  49.292424   BANGALORE                Gold  500000   \n",
       "2          1       A1  49.292424   BANGALORE                Gold  500000   \n",
       "3          1       A1  49.292424   BANGALORE                Gold  500000   \n",
       "4          1       A1  49.292424   BANGALORE                Gold  500000   \n",
       "...      ...      ...        ...         ...                 ...     ...   \n",
       "1495      96      A96  29.631637     CHENNAI              Silver  100000   \n",
       "1496      97      A97  20.611833  TRIVANDRUM            Platimum   10000   \n",
       "1497      98      A98  40.538985    CALCUTTA            Platimum   10001   \n",
       "1498      99      A99  21.588666    CALCUTTA            Platimum   10002   \n",
       "1499     100     A100  23.607638      COCHIN              Silver  100000   \n",
       "\n",
       "     Company        Segment  SI No:_x  SI No:_y    Month        Type  \\\n",
       "0         C1  Self Employed         1         1  2004-01   JEWELLERY   \n",
       "1         C1  Self Employed         1         2  2004-01       PETRO   \n",
       "2         C1  Self Employed         1         3  2004-01     CLOTHES   \n",
       "3         C1  Self Employed         1         4  2004-01        FOOD   \n",
       "4         C1  Self Employed         1         5  2005-01      CAMERA   \n",
       "...      ...            ...       ...       ...      ...         ...   \n",
       "1495     C19   Salaried_Pvt        96        98  2004-01        BIKE   \n",
       "1496     C20           Govt        97        99  2004-01        AUTO   \n",
       "1497     C21  Normal Salary        98       100  2004-01    SHOPPING   \n",
       "1498     C22  Self Employed        99       101  2004-01  AIR TICKET   \n",
       "1499      C5   Salaried_MNC       100       102  2004-01  BUS TICKET   \n",
       "\n",
       "             Amount  \n",
       "0     473775.834869  \n",
       "1     335578.666019  \n",
       "2     371040.941912  \n",
       "3     141177.813256  \n",
       "4     398403.771812  \n",
       "...             ...  \n",
       "1495  320363.535698  \n",
       "1496  164330.042270  \n",
       "1497   87483.511992  \n",
       "1498  476020.386647  \n",
       "1499   42254.191499  \n",
       "\n",
       "[1500 rows x 13 columns]"
      ]
     },
     "execution_count": 182,
     "metadata": {},
     "output_type": "execute_result"
    }
   ],
   "source": [
    "merge_credit_spend"
   ]
  },
  {
   "cell_type": "code",
   "execution_count": 183,
   "id": "3118e068",
   "metadata": {},
   "outputs": [
    {
     "data": {
      "text/plain": [
       "Sl No:                 0\n",
       "Customer               0\n",
       "Age                    0\n",
       "City                   0\n",
       "Credit Card Product    0\n",
       "Limit                  0\n",
       "Company                0\n",
       "Segment                0\n",
       "SI No:_x               0\n",
       "SI No:_y               0\n",
       "Month                  0\n",
       "Type                   0\n",
       "Amount                 0\n",
       "dtype: int64"
      ]
     },
     "execution_count": 183,
     "metadata": {},
     "output_type": "execute_result"
    }
   ],
   "source": [
    "merge_credit_spend.isnull().sum()"
   ]
  },
  {
   "cell_type": "code",
   "execution_count": 184,
   "id": "23157aec",
   "metadata": {},
   "outputs": [],
   "source": [
    "segment_spent = merge_credit_spend.groupby('Segment')['Amount'].sum()"
   ]
  },
  {
   "cell_type": "code",
   "execution_count": 185,
   "id": "9a66238e",
   "metadata": {},
   "outputs": [],
   "source": [
    "segment_spent = pd.DataFrame(segment_spent)"
   ]
  },
  {
   "cell_type": "code",
   "execution_count": 186,
   "id": "0b1df23b",
   "metadata": {},
   "outputs": [
    {
     "data": {
      "text/html": [
       "<div>\n",
       "<style scoped>\n",
       "    .dataframe tbody tr th:only-of-type {\n",
       "        vertical-align: middle;\n",
       "    }\n",
       "\n",
       "    .dataframe tbody tr th {\n",
       "        vertical-align: top;\n",
       "    }\n",
       "\n",
       "    .dataframe thead th {\n",
       "        text-align: right;\n",
       "    }\n",
       "</style>\n",
       "<table border=\"1\" class=\"dataframe\">\n",
       "  <thead>\n",
       "    <tr style=\"text-align: right;\">\n",
       "      <th></th>\n",
       "      <th>Amount</th>\n",
       "    </tr>\n",
       "    <tr>\n",
       "      <th>Segment</th>\n",
       "      <th></th>\n",
       "    </tr>\n",
       "  </thead>\n",
       "  <tbody>\n",
       "    <tr>\n",
       "      <th>Govt</th>\n",
       "      <td>6.732563e+07</td>\n",
       "    </tr>\n",
       "    <tr>\n",
       "      <th>Normal Salary</th>\n",
       "      <td>1.077071e+08</td>\n",
       "    </tr>\n",
       "    <tr>\n",
       "      <th>Salaried_MNC</th>\n",
       "      <td>6.363949e+07</td>\n",
       "    </tr>\n",
       "    <tr>\n",
       "      <th>Salaried_Pvt</th>\n",
       "      <td>7.170431e+07</td>\n",
       "    </tr>\n",
       "    <tr>\n",
       "      <th>Self Employed</th>\n",
       "      <td>7.097548e+07</td>\n",
       "    </tr>\n",
       "  </tbody>\n",
       "</table>\n",
       "</div>"
      ],
      "text/plain": [
       "                     Amount\n",
       "Segment                    \n",
       "Govt           6.732563e+07\n",
       "Normal Salary  1.077071e+08\n",
       "Salaried_MNC   6.363949e+07\n",
       "Salaried_Pvt   7.170431e+07\n",
       "Self Employed  7.097548e+07"
      ]
     },
     "execution_count": 186,
     "metadata": {},
     "output_type": "execute_result"
    }
   ],
   "source": [
    "segment_spent"
   ]
  },
  {
   "cell_type": "code",
   "execution_count": 187,
   "id": "fe938a2b",
   "metadata": {},
   "outputs": [
    {
     "data": {
      "text/plain": [
       "Amount    1.077071e+08\n",
       "dtype: float64"
      ]
     },
     "execution_count": 187,
     "metadata": {},
     "output_type": "execute_result"
    }
   ],
   "source": [
    "segment_spent.max()"
   ]
  },
  {
   "cell_type": "code",
   "execution_count": 188,
   "id": "82377f77",
   "metadata": {},
   "outputs": [
    {
     "data": {
      "text/plain": [
       "Amount    Normal Salary\n",
       "dtype: object"
      ]
     },
     "execution_count": 188,
     "metadata": {},
     "output_type": "execute_result"
    }
   ],
   "source": [
    "max_spending = segment_spent.idxmax()\n",
    "max_spending"
   ]
  },
  {
   "cell_type": "markdown",
   "id": "392be937",
   "metadata": {},
   "source": [
    "## Which age group is spending more money?"
   ]
  },
  {
   "cell_type": "code",
   "execution_count": 189,
   "id": "9a5173b5",
   "metadata": {},
   "outputs": [
    {
     "name": "stdout",
     "output_type": "stream",
     "text": [
      "45-50\n"
     ]
    }
   ],
   "source": [
    "age_ranges = [18,25,30,35,40,45,50,55,60,65]\n",
    "merge_credit_spend['Age Group'] = pd.cut(merge_credit_spend['Age'],bins = age_ranges , labels = ['18-25','25-30','30-35','35-40','40-45','45-50','50-55','55-60','60-65'])\n",
    "age_group_spending = merge_credit_spend.groupby('Age Group')['Amount'].sum()\n",
    "max_spending_age_group = print(age_group_spending.idxmax())"
   ]
  },
  {
   "cell_type": "code",
   "execution_count": 190,
   "id": "2ccae0f9",
   "metadata": {},
   "outputs": [],
   "source": [
    "repay = repay.rename(columns = {'Costomer':'Customer'})"
   ]
  },
  {
   "cell_type": "code",
   "execution_count": 191,
   "id": "def4157c",
   "metadata": {},
   "outputs": [
    {
     "data": {
      "text/html": [
       "<div>\n",
       "<style scoped>\n",
       "    .dataframe tbody tr th:only-of-type {\n",
       "        vertical-align: middle;\n",
       "    }\n",
       "\n",
       "    .dataframe tbody tr th {\n",
       "        vertical-align: top;\n",
       "    }\n",
       "\n",
       "    .dataframe thead th {\n",
       "        text-align: right;\n",
       "    }\n",
       "</style>\n",
       "<table border=\"1\" class=\"dataframe\">\n",
       "  <thead>\n",
       "    <tr style=\"text-align: right;\">\n",
       "      <th></th>\n",
       "      <th>SL No:</th>\n",
       "      <th>Customer</th>\n",
       "      <th>Month</th>\n",
       "      <th>Amount</th>\n",
       "      <th>variation</th>\n",
       "      <th>surplus</th>\n",
       "    </tr>\n",
       "  </thead>\n",
       "  <tbody>\n",
       "    <tr>\n",
       "      <th>0</th>\n",
       "      <td>1</td>\n",
       "      <td>A1</td>\n",
       "      <td>2004-01</td>\n",
       "      <td>331844.007374</td>\n",
       "      <td>-141931.827495</td>\n",
       "      <td>-2838.636550</td>\n",
       "    </tr>\n",
       "    <tr>\n",
       "      <th>1</th>\n",
       "      <td>2</td>\n",
       "      <td>A1</td>\n",
       "      <td>2004-01</td>\n",
       "      <td>441139.807335</td>\n",
       "      <td>105561.141316</td>\n",
       "      <td>2111.222826</td>\n",
       "    </tr>\n",
       "    <tr>\n",
       "      <th>2</th>\n",
       "      <td>3</td>\n",
       "      <td>A1</td>\n",
       "      <td>2004-01</td>\n",
       "      <td>32480.004009</td>\n",
       "      <td>-338560.937903</td>\n",
       "      <td>-6771.218758</td>\n",
       "    </tr>\n",
       "    <tr>\n",
       "      <th>3</th>\n",
       "      <td>4</td>\n",
       "      <td>A1</td>\n",
       "      <td>2004-01</td>\n",
       "      <td>90636.966534</td>\n",
       "      <td>-50540.846722</td>\n",
       "      <td>-1010.816934</td>\n",
       "    </tr>\n",
       "    <tr>\n",
       "      <th>4</th>\n",
       "      <td>5</td>\n",
       "      <td>A1</td>\n",
       "      <td>2005-01</td>\n",
       "      <td>1581.969829</td>\n",
       "      <td>-396821.801983</td>\n",
       "      <td>-7936.436040</td>\n",
       "    </tr>\n",
       "    <tr>\n",
       "      <th>...</th>\n",
       "      <td>...</td>\n",
       "      <td>...</td>\n",
       "      <td>...</td>\n",
       "      <td>...</td>\n",
       "      <td>...</td>\n",
       "      <td>...</td>\n",
       "    </tr>\n",
       "    <tr>\n",
       "      <th>1495</th>\n",
       "      <td>1496</td>\n",
       "      <td>A67</td>\n",
       "      <td>2005-05</td>\n",
       "      <td>200288.874065</td>\n",
       "      <td>4447.561849</td>\n",
       "      <td>88.951237</td>\n",
       "    </tr>\n",
       "    <tr>\n",
       "      <th>1496</th>\n",
       "      <td>1497</td>\n",
       "      <td>A68</td>\n",
       "      <td>2006-05</td>\n",
       "      <td>231194.702295</td>\n",
       "      <td>-53067.815415</td>\n",
       "      <td>-1061.356308</td>\n",
       "    </tr>\n",
       "    <tr>\n",
       "      <th>1497</th>\n",
       "      <td>1498</td>\n",
       "      <td>A69</td>\n",
       "      <td>2006-07</td>\n",
       "      <td>391195.615836</td>\n",
       "      <td>184643.342238</td>\n",
       "      <td>3692.866845</td>\n",
       "    </tr>\n",
       "    <tr>\n",
       "      <th>1498</th>\n",
       "      <td>1499</td>\n",
       "      <td>A70</td>\n",
       "      <td>2005-08</td>\n",
       "      <td>357629.618186</td>\n",
       "      <td>316604.836903</td>\n",
       "      <td>6332.096738</td>\n",
       "    </tr>\n",
       "    <tr>\n",
       "      <th>1499</th>\n",
       "      <td>1500</td>\n",
       "      <td>A71</td>\n",
       "      <td>2004-09</td>\n",
       "      <td>179771.745248</td>\n",
       "      <td>78374.196661</td>\n",
       "      <td>1567.483933</td>\n",
       "    </tr>\n",
       "  </tbody>\n",
       "</table>\n",
       "<p>1500 rows × 6 columns</p>\n",
       "</div>"
      ],
      "text/plain": [
       "      SL No: Customer    Month         Amount      variation      surplus\n",
       "0          1       A1  2004-01  331844.007374 -141931.827495 -2838.636550\n",
       "1          2       A1  2004-01  441139.807335  105561.141316  2111.222826\n",
       "2          3       A1  2004-01   32480.004009 -338560.937903 -6771.218758\n",
       "3          4       A1  2004-01   90636.966534  -50540.846722 -1010.816934\n",
       "4          5       A1  2005-01    1581.969829 -396821.801983 -7936.436040\n",
       "...      ...      ...      ...            ...            ...          ...\n",
       "1495    1496      A67  2005-05  200288.874065    4447.561849    88.951237\n",
       "1496    1497      A68  2006-05  231194.702295  -53067.815415 -1061.356308\n",
       "1497    1498      A69  2006-07  391195.615836  184643.342238  3692.866845\n",
       "1498    1499      A70  2005-08  357629.618186  316604.836903  6332.096738\n",
       "1499    1500      A71  2004-09  179771.745248   78374.196661  1567.483933\n",
       "\n",
       "[1500 rows x 6 columns]"
      ]
     },
     "execution_count": 191,
     "metadata": {},
     "output_type": "execute_result"
    }
   ],
   "source": [
    "repay"
   ]
  },
  {
   "cell_type": "code",
   "execution_count": 192,
   "id": "891a7b65",
   "metadata": {},
   "outputs": [
    {
     "name": "stdout",
     "output_type": "stream",
     "text": [
      "   SL No: Customer  Month_x       Amount_x      variation     surplus  Sl No:  \\\n",
      "0       1       A1  2004-01  331844.007374 -141931.827495 -2838.63655       1   \n",
      "1       1       A1  2004-01  331844.007374 -141931.827495 -2838.63655       1   \n",
      "2       1       A1  2004-01  331844.007374 -141931.827495 -2838.63655       1   \n",
      "3       1       A1  2004-01  331844.007374 -141931.827495 -2838.63655       1   \n",
      "4       1       A1  2004-01  331844.007374 -141931.827495 -2838.63655       1   \n",
      "5       1       A1  2004-01  331844.007374 -141931.827495 -2838.63655       1   \n",
      "6       1       A1  2004-01  331844.007374 -141931.827495 -2838.63655       1   \n",
      "7       1       A1  2004-01  331844.007374 -141931.827495 -2838.63655       1   \n",
      "8       1       A1  2004-01  331844.007374 -141931.827495 -2838.63655       1   \n",
      "9       1       A1  2004-01  331844.007374 -141931.827495 -2838.63655       1   \n",
      "\n",
      "         Age       City Credit Card Product   Limit Company        Segment  \\\n",
      "0  49.292424  BANGALORE                Gold  500000      C1  Self Employed   \n",
      "1  49.292424  BANGALORE                Gold  500000      C1  Self Employed   \n",
      "2  49.292424  BANGALORE                Gold  500000      C1  Self Employed   \n",
      "3  49.292424  BANGALORE                Gold  500000      C1  Self Employed   \n",
      "4  49.292424  BANGALORE                Gold  500000      C1  Self Employed   \n",
      "5  49.292424  BANGALORE                Gold  500000      C1  Self Employed   \n",
      "6  49.292424  BANGALORE                Gold  500000      C1  Self Employed   \n",
      "7  49.292424  BANGALORE                Gold  500000      C1  Self Employed   \n",
      "8  49.292424  BANGALORE                Gold  500000      C1  Self Employed   \n",
      "9  49.292424  BANGALORE                Gold  500000      C1  Self Employed   \n",
      "\n",
      "   SI No:_x  SI No:_y  Month_y          Type       Amount_y Age Group  \n",
      "0         1         1  2004-01     JEWELLERY  473775.834869     45-50  \n",
      "1         1         2  2004-01         PETRO  335578.666019     45-50  \n",
      "2         1         3  2004-01       CLOTHES  371040.941912     45-50  \n",
      "3         1         4  2004-01          FOOD  141177.813256     45-50  \n",
      "4         1         5  2005-01        CAMERA  398403.771812     45-50  \n",
      "5         1         6  2005-02       SANDALS  429084.568141     45-50  \n",
      "6         1         7  2005-02           CAR  219341.961771     45-50  \n",
      "7         1       103  2004-01  TRAIN TICKET   52225.052808     45-50  \n",
      "8         1       117  2004-02    BUS TICKET   41381.105869     45-50  \n",
      "9         1       131  2006-04    AIR TICKET  266518.449788     45-50  \n"
     ]
    }
   ],
   "source": [
    "merged_repay_spend = pd.merge(repay,merge_credit_spend,on = 'Customer',how = 'left')\n",
    "print(merged_repay_spend.head(10))"
   ]
  },
  {
   "cell_type": "markdown",
   "id": "ec39675c",
   "metadata": {},
   "source": [
    "## Most profitable segment"
   ]
  },
  {
   "cell_type": "code",
   "execution_count": 193,
   "id": "51f32974",
   "metadata": {},
   "outputs": [
    {
     "data": {
      "text/html": [
       "<div>\n",
       "<style scoped>\n",
       "    .dataframe tbody tr th:only-of-type {\n",
       "        vertical-align: middle;\n",
       "    }\n",
       "\n",
       "    .dataframe tbody tr th {\n",
       "        vertical-align: top;\n",
       "    }\n",
       "\n",
       "    .dataframe thead th {\n",
       "        text-align: right;\n",
       "    }\n",
       "</style>\n",
       "<table border=\"1\" class=\"dataframe\">\n",
       "  <thead>\n",
       "    <tr style=\"text-align: right;\">\n",
       "      <th></th>\n",
       "      <th>Amount_x</th>\n",
       "    </tr>\n",
       "    <tr>\n",
       "      <th>Segment</th>\n",
       "      <th></th>\n",
       "    </tr>\n",
       "  </thead>\n",
       "  <tbody>\n",
       "    <tr>\n",
       "      <th>Govt</th>\n",
       "      <td>1.549330e+09</td>\n",
       "    </tr>\n",
       "    <tr>\n",
       "      <th>Normal Salary</th>\n",
       "      <td>2.476206e+09</td>\n",
       "    </tr>\n",
       "    <tr>\n",
       "      <th>Salaried_MNC</th>\n",
       "      <td>1.599110e+09</td>\n",
       "    </tr>\n",
       "    <tr>\n",
       "      <th>Salaried_Pvt</th>\n",
       "      <td>1.771235e+09</td>\n",
       "    </tr>\n",
       "    <tr>\n",
       "      <th>Self Employed</th>\n",
       "      <td>1.803293e+09</td>\n",
       "    </tr>\n",
       "  </tbody>\n",
       "</table>\n",
       "</div>"
      ],
      "text/plain": [
       "                   Amount_x\n",
       "Segment                    \n",
       "Govt           1.549330e+09\n",
       "Normal Salary  2.476206e+09\n",
       "Salaried_MNC   1.599110e+09\n",
       "Salaried_Pvt   1.771235e+09\n",
       "Self Employed  1.803293e+09"
      ]
     },
     "execution_count": 193,
     "metadata": {},
     "output_type": "execute_result"
    }
   ],
   "source": [
    "segment_repayment = merged_repay_spend.groupby('Segment')['Amount_x'].sum()\n",
    "segment_repayment = pd.DataFrame(segment_repayment)\n",
    "segment_repayment"
   ]
  },
  {
   "cell_type": "code",
   "execution_count": 211,
   "id": "1460e14f",
   "metadata": {},
   "outputs": [
    {
     "data": {
      "text/html": [
       "<div>\n",
       "<style scoped>\n",
       "    .dataframe tbody tr th:only-of-type {\n",
       "        vertical-align: middle;\n",
       "    }\n",
       "\n",
       "    .dataframe tbody tr th {\n",
       "        vertical-align: top;\n",
       "    }\n",
       "\n",
       "    .dataframe thead th {\n",
       "        text-align: right;\n",
       "    }\n",
       "</style>\n",
       "<table border=\"1\" class=\"dataframe\">\n",
       "  <thead>\n",
       "    <tr style=\"text-align: right;\">\n",
       "      <th></th>\n",
       "      <th>0</th>\n",
       "    </tr>\n",
       "    <tr>\n",
       "      <th>Segment</th>\n",
       "      <th></th>\n",
       "    </tr>\n",
       "  </thead>\n",
       "  <tbody>\n",
       "    <tr>\n",
       "      <th>Govt</th>\n",
       "      <td>1.482004e+09</td>\n",
       "    </tr>\n",
       "    <tr>\n",
       "      <th>Normal Salary</th>\n",
       "      <td>2.368499e+09</td>\n",
       "    </tr>\n",
       "    <tr>\n",
       "      <th>Salaried_MNC</th>\n",
       "      <td>1.535471e+09</td>\n",
       "    </tr>\n",
       "    <tr>\n",
       "      <th>Salaried_Pvt</th>\n",
       "      <td>1.699531e+09</td>\n",
       "    </tr>\n",
       "    <tr>\n",
       "      <th>Self Employed</th>\n",
       "      <td>1.732317e+09</td>\n",
       "    </tr>\n",
       "  </tbody>\n",
       "</table>\n",
       "</div>"
      ],
      "text/plain": [
       "                          0\n",
       "Segment                    \n",
       "Govt           1.482004e+09\n",
       "Normal Salary  2.368499e+09\n",
       "Salaried_MNC   1.535471e+09\n",
       "Salaried_Pvt   1.699531e+09\n",
       "Self Employed  1.732317e+09"
      ]
     },
     "execution_count": 211,
     "metadata": {},
     "output_type": "execute_result"
    }
   ],
   "source": [
    "profitable_segment = segment_repayment['Amount_x'] - segment_spent['Amount']\n",
    "profitable_segment = pd.DataFrame(profitable_segment)\n",
    "profitable_segment = profitable_segment.rename(columns={'0':'Amount'})\n",
    "profitable_segment"
   ]
  },
  {
   "cell_type": "code",
   "execution_count": 213,
   "id": "fe27a9ad",
   "metadata": {},
   "outputs": [
    {
     "data": {
      "text/plain": [
       "0    Normal Salary\n",
       "dtype: object"
      ]
     },
     "execution_count": 213,
     "metadata": {},
     "output_type": "execute_result"
    }
   ],
   "source": [
    "profitable_segment.idxmax()"
   ]
  },
  {
   "cell_type": "markdown",
   "id": "25ea5465",
   "metadata": {},
   "source": [
    "## Maximum spending category"
   ]
  },
  {
   "cell_type": "code",
   "execution_count": 214,
   "id": "84ba81e2",
   "metadata": {},
   "outputs": [
    {
     "name": "stdout",
     "output_type": "stream",
     "text": [
      "PETRO\n"
     ]
    }
   ],
   "source": [
    "max_spend_category = spend.groupby('Type')['Amount'].sum()\n",
    "print(max_spend_category.idxmax())"
   ]
  },
  {
   "cell_type": "code",
   "execution_count": 215,
   "id": "7dac2f15",
   "metadata": {},
   "outputs": [
    {
     "data": {
      "text/plain": [
       "array(['JEWELLERY', 'PETRO', 'CLOTHES', 'FOOD', 'CAMERA', 'SANDALS',\n",
       "       'CAR', 'BIKE', 'AUTO', 'SHOPPING', 'AIR TICKET', 'BUS TICKET',\n",
       "       'TRAIN TICKET', 'RENTAL', 'MOVIE TICKET'], dtype=object)"
      ]
     },
     "execution_count": 215,
     "metadata": {},
     "output_type": "execute_result"
    }
   ],
   "source": [
    "spend['Type'].unique()"
   ]
  },
  {
   "cell_type": "code",
   "execution_count": 216,
   "id": "62883ff8",
   "metadata": {},
   "outputs": [
    {
     "data": {
      "text/plain": [
       "'TRAVELING EXPENSES'"
      ]
     },
     "execution_count": 216,
     "metadata": {},
     "output_type": "execute_result"
    }
   ],
   "source": [
    "group_mapping = {\n",
    "    'JEWELLERY' : 'FASHION AND ACCESORIES',\n",
    "    'PETRO' : 'VEHICLE COSTS',\n",
    "    'CLOTHES' : 'FASHION AND ACCESORIES',\n",
    "    'FOOD' : 'FOOD',\n",
    "    'CAMERA' : 'OTHERS',\n",
    "    'SANDALS' : 'FASHION AND ACCESORIES',\n",
    "    'CAR' : 'VEHICLE COSTS',\n",
    "    'BIKE' : 'VEHICLE COSTS',\n",
    "    'AUTO' : 'VEHICLE COSTS',\n",
    "    'SHOPPING' : 'FASHION AND ACCESORIES',\n",
    "    'AIR TICKET' : 'TRAVELING EXPENSES',\n",
    "    'BUS TICKET' : 'TRAVELING EXPENSES',\n",
    "    'TRAIN TICKET': 'TRAVELING EXPENSES',\n",
    "    'RENTAL' : 'OTHERS',\n",
    "    'MOVIE TICKET' : 'OTHERS'\n",
    "}\n",
    "spend['category'] = spend['Type'].replace(group_mapping)\n",
    "category = spend['category'].value_counts()\n",
    "category.idxmax()"
   ]
  },
  {
   "cell_type": "markdown",
   "id": "63cee05f",
   "metadata": {},
   "source": [
    "## Monthly profit of Bank and customer Payment of each month"
   ]
  },
  {
   "cell_type": "code",
   "execution_count": 286,
   "id": "5b190c1d",
   "metadata": {},
   "outputs": [],
   "source": [
    "due_amount = monthly_spend['Amount'] - monthly_repay['Amount']"
   ]
  },
  {
   "cell_type": "code",
   "execution_count": 287,
   "id": "ecaa579c",
   "metadata": {},
   "outputs": [
    {
     "data": {
      "text/plain": [
       "Costomer  Month  \n",
       "A1        2004-01    148397.511160\n",
       "          2004-02   -149798.905749\n",
       "          2004-05              NaN\n",
       "          2005-01    396821.801983\n",
       "          2005-02    204385.417375\n",
       "                         ...      \n",
       "A95       2004-01    272724.387296\n",
       "A96       2004-01    210224.521550\n",
       "A97       2004-01    -10276.350013\n",
       "A98       2004-01    -10319.087003\n",
       "A99       2004-01    117430.462302\n",
       "Name: Amount, Length: 1102, dtype: float64"
      ]
     },
     "execution_count": 287,
     "metadata": {},
     "output_type": "execute_result"
    }
   ],
   "source": [
    "due_amount"
   ]
  },
  {
   "cell_type": "code",
   "execution_count": 288,
   "id": "bffaf4ee",
   "metadata": {},
   "outputs": [],
   "source": [
    "due_amount = due_amount[due_amount > 0]"
   ]
  },
  {
   "cell_type": "code",
   "execution_count": 289,
   "id": "0bf1fd44",
   "metadata": {},
   "outputs": [
    {
     "data": {
      "text/plain": [
       "Costomer  Month  \n",
       "A1        2004-01    148397.511160\n",
       "          2005-01    396821.801983\n",
       "          2005-02    204385.417375\n",
       "          2005-11    178830.483153\n",
       "          2006-04    193233.582587\n",
       "                         ...      \n",
       "A93       2004-01    292417.152847\n",
       "A94       2004-01    185734.381769\n",
       "A95       2004-01    272724.387296\n",
       "A96       2004-01    210224.521550\n",
       "A99       2004-01    117430.462302\n",
       "Name: Amount, Length: 266, dtype: float64"
      ]
     },
     "execution_count": 289,
     "metadata": {},
     "output_type": "execute_result"
    }
   ],
   "source": [
    "due_amount"
   ]
  },
  {
   "cell_type": "code",
   "execution_count": 290,
   "id": "f4e0969f",
   "metadata": {},
   "outputs": [],
   "source": [
    "interest_amount = due_amount * 0.029"
   ]
  },
  {
   "cell_type": "code",
   "execution_count": 291,
   "id": "621e512f",
   "metadata": {},
   "outputs": [],
   "source": [
    "customer_pay = due_amount + interest_amount"
   ]
  },
  {
   "cell_type": "code",
   "execution_count": 292,
   "id": "fd1a3596",
   "metadata": {},
   "outputs": [
    {
     "data": {
      "text/html": [
       "<div>\n",
       "<style scoped>\n",
       "    .dataframe tbody tr th:only-of-type {\n",
       "        vertical-align: middle;\n",
       "    }\n",
       "\n",
       "    .dataframe tbody tr th {\n",
       "        vertical-align: top;\n",
       "    }\n",
       "\n",
       "    .dataframe thead th {\n",
       "        text-align: right;\n",
       "    }\n",
       "</style>\n",
       "<table border=\"1\" class=\"dataframe\">\n",
       "  <thead>\n",
       "    <tr style=\"text-align: right;\">\n",
       "      <th></th>\n",
       "      <th></th>\n",
       "      <th>Amount</th>\n",
       "    </tr>\n",
       "    <tr>\n",
       "      <th>Costomer</th>\n",
       "      <th>Month</th>\n",
       "      <th></th>\n",
       "    </tr>\n",
       "  </thead>\n",
       "  <tbody>\n",
       "    <tr>\n",
       "      <th rowspan=\"5\" valign=\"top\">A1</th>\n",
       "      <th>2004-01</th>\n",
       "      <td>148397.511160</td>\n",
       "    </tr>\n",
       "    <tr>\n",
       "      <th>2005-01</th>\n",
       "      <td>396821.801983</td>\n",
       "    </tr>\n",
       "    <tr>\n",
       "      <th>2005-02</th>\n",
       "      <td>204385.417375</td>\n",
       "    </tr>\n",
       "    <tr>\n",
       "      <th>2005-11</th>\n",
       "      <td>178830.483153</td>\n",
       "    </tr>\n",
       "    <tr>\n",
       "      <th>2006-04</th>\n",
       "      <td>193233.582587</td>\n",
       "    </tr>\n",
       "    <tr>\n",
       "      <th>...</th>\n",
       "      <th>...</th>\n",
       "      <td>...</td>\n",
       "    </tr>\n",
       "    <tr>\n",
       "      <th>A93</th>\n",
       "      <th>2004-01</th>\n",
       "      <td>292417.152847</td>\n",
       "    </tr>\n",
       "    <tr>\n",
       "      <th>A94</th>\n",
       "      <th>2004-01</th>\n",
       "      <td>185734.381769</td>\n",
       "    </tr>\n",
       "    <tr>\n",
       "      <th>A95</th>\n",
       "      <th>2004-01</th>\n",
       "      <td>272724.387296</td>\n",
       "    </tr>\n",
       "    <tr>\n",
       "      <th>A96</th>\n",
       "      <th>2004-01</th>\n",
       "      <td>210224.521550</td>\n",
       "    </tr>\n",
       "    <tr>\n",
       "      <th>A99</th>\n",
       "      <th>2004-01</th>\n",
       "      <td>117430.462302</td>\n",
       "    </tr>\n",
       "  </tbody>\n",
       "</table>\n",
       "<p>266 rows × 1 columns</p>\n",
       "</div>"
      ],
      "text/plain": [
       "                         Amount\n",
       "Costomer Month                 \n",
       "A1       2004-01  148397.511160\n",
       "         2005-01  396821.801983\n",
       "         2005-02  204385.417375\n",
       "         2005-11  178830.483153\n",
       "         2006-04  193233.582587\n",
       "...                         ...\n",
       "A93      2004-01  292417.152847\n",
       "A94      2004-01  185734.381769\n",
       "A95      2004-01  272724.387296\n",
       "A96      2004-01  210224.521550\n",
       "A99      2004-01  117430.462302\n",
       "\n",
       "[266 rows x 1 columns]"
      ]
     },
     "execution_count": 292,
     "metadata": {},
     "output_type": "execute_result"
    }
   ],
   "source": [
    "customer_pay = pd.DataFrame(due_amount)\n",
    "customer_pay"
   ]
  },
  {
   "cell_type": "code",
   "execution_count": 293,
   "id": "b307158a",
   "metadata": {},
   "outputs": [
    {
     "data": {
      "text/plain": [
       "(266, 1)"
      ]
     },
     "execution_count": 293,
     "metadata": {},
     "output_type": "execute_result"
    }
   ],
   "source": [
    "customer_pay.shape"
   ]
  },
  {
   "cell_type": "code",
   "execution_count": 294,
   "id": "c2ec4fae",
   "metadata": {},
   "outputs": [
    {
     "data": {
      "text/plain": [
       "MultiIndex([( 'A1', '2004-01'),\n",
       "            ( 'A1', '2005-01'),\n",
       "            ( 'A1', '2005-02'),\n",
       "            ( 'A1', '2005-11'),\n",
       "            ( 'A1', '2006-04'),\n",
       "            ('A10', '2004-03'),\n",
       "            ('A10', '2006-03'),\n",
       "            ('A11', '2005-08'),\n",
       "            ('A12', '2004-01'),\n",
       "            ('A12', '2004-02'),\n",
       "            ...\n",
       "            ('A89', '2006-04'),\n",
       "            ( 'A9', '2004-01'),\n",
       "            ( 'A9', '2005-02'),\n",
       "            ( 'A9', '2006-02'),\n",
       "            ('A90', '2006-04'),\n",
       "            ('A93', '2004-01'),\n",
       "            ('A94', '2004-01'),\n",
       "            ('A95', '2004-01'),\n",
       "            ('A96', '2004-01'),\n",
       "            ('A99', '2004-01')],\n",
       "           names=['Costomer', 'Month'], length=266)"
      ]
     },
     "execution_count": 294,
     "metadata": {},
     "output_type": "execute_result"
    }
   ],
   "source": [
    "customer_pay.index"
   ]
  },
  {
   "cell_type": "code",
   "execution_count": 295,
   "id": "84e5afc8",
   "metadata": {},
   "outputs": [],
   "source": [
    "customer_pay.reset_index(inplace=True)"
   ]
  },
  {
   "cell_type": "code",
   "execution_count": 296,
   "id": "ad6dadd6",
   "metadata": {},
   "outputs": [
    {
     "data": {
      "text/plain": [
       "Index(['Costomer', 'Month', 'Amount'], dtype='object')"
      ]
     },
     "execution_count": 296,
     "metadata": {},
     "output_type": "execute_result"
    }
   ],
   "source": [
    "customer_pay.columns"
   ]
  },
  {
   "cell_type": "code",
   "execution_count": 297,
   "id": "0bed3ad1",
   "metadata": {},
   "outputs": [
    {
     "name": "stdout",
     "output_type": "stream",
     "text": [
      "   Year-Month        Amount\n",
      "0     2004-01  1.669592e+07\n",
      "1     2004-02  1.272078e+06\n",
      "2     2004-03  6.395781e+05\n",
      "3     2004-04  1.011751e+06\n",
      "4     2004-05  5.481677e+05\n",
      "5     2004-09  6.328051e+03\n",
      "6     2004-11  7.552561e+05\n",
      "7     2005-01  1.675321e+06\n",
      "8     2005-02  1.094188e+07\n",
      "9     2005-04  1.238887e+06\n",
      "10    2005-05  8.618317e+06\n",
      "11    2005-06  3.367130e+06\n",
      "12    2005-07  4.150490e+05\n",
      "13    2005-08  1.569154e+06\n",
      "14    2005-09  5.185326e+05\n",
      "15    2005-10  1.456398e+05\n",
      "16    2005-11  3.359889e+06\n",
      "17    2005-12  1.898293e+05\n",
      "18    2006-01  1.175653e+06\n",
      "19    2006-02  1.739579e+06\n",
      "20    2006-03  1.592058e+07\n",
      "21    2006-04  7.482892e+06\n",
      "22    2006-05  2.171171e+06\n",
      "23    2006-06  2.753837e+05\n",
      "24    2006-07  1.272987e+06\n",
      "25    2006-08  1.088685e+05\n",
      "26    2006-09  4.007289e+05\n",
      "27    2006-10  6.614960e+05\n",
      "28    2006-11  1.712678e+06\n",
      "29    2006-12  2.212683e+05\n"
     ]
    }
   ],
   "source": [
    "customer_pay['Year-Month'] = customer_pay['Month'].dt.strftime('%Y-%m')\n",
    "\n",
    "# Group the data by the new 'Year-Month' column and calculate the sum of 'Amount' for each group\n",
    "monthly_profit = customer_pay.groupby('Year-Month')['Amount'].sum().reset_index()\n",
    "\n",
    "# Display the monthly_profit DataFrame\n",
    "print(monthly_profit)"
   ]
  }
 ],
 "metadata": {
  "kernelspec": {
   "display_name": "Python 3 (ipykernel)",
   "language": "python",
   "name": "python3"
  },
  "language_info": {
   "codemirror_mode": {
    "name": "ipython",
    "version": 3
   },
   "file_extension": ".py",
   "mimetype": "text/x-python",
   "name": "python",
   "nbconvert_exporter": "python",
   "pygments_lexer": "ipython3",
   "version": "3.11.5"
  }
 },
 "nbformat": 4,
 "nbformat_minor": 5
}
